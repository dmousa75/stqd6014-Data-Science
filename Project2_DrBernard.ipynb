{
  "nbformat": 4,
  "nbformat_minor": 0,
  "metadata": {
    "colab": {
      "provenance": [],
      "include_colab_link": true
    },
    "kernelspec": {
      "name": "python3",
      "display_name": "Python 3"
    },
    "language_info": {
      "name": "python"
    }
  },
  "cells": [
    {
      "cell_type": "markdown",
      "metadata": {
        "id": "view-in-github",
        "colab_type": "text"
      },
      "source": [
        "<a href=\"https://colab.research.google.com/github/dmousa75/stqd6014-Data-Science/blob/Project-2-Dr-Bernard/Project2_DrBernard.ipynb\" target=\"_parent\"><img src=\"https://colab.research.google.com/assets/colab-badge.svg\" alt=\"Open In Colab\"/></a>"
      ]
    },
    {
      "cell_type": "code",
      "execution_count": 1,
      "metadata": {
        "colab": {
          "base_uri": "https://localhost:8080/"
        },
        "id": "TPWnOTF9mW-L",
        "outputId": "6c2582cb-90a2-46e0-c56c-f52235909973"
      },
      "outputs": [
        {
          "output_type": "stream",
          "name": "stdout",
          "text": [
            "Mounted at /content/drive\n"
          ]
        }
      ],
      "source": [
        "from google.colab import drive\n",
        "drive.mount('/content/drive')"
      ]
    },
    {
      "cell_type": "markdown",
      "source": [
        "#Step 1: Install Packages"
      ],
      "metadata": {
        "id": "0vrzYntRnQIH"
      }
    },
    {
      "cell_type": "code",
      "source": [
        "!pip install pandas emoji\n",
        "!pip install nltk\n",
        "!pip install textblob\n",
        "!pip install wordcloud\n",
        "!pip install plotly"
      ],
      "metadata": {
        "colab": {
          "base_uri": "https://localhost:8080/"
        },
        "id": "ScUqXEeMnEJW",
        "outputId": "dc8cfaad-0f1a-4bd2-a933-23fbd9c6ecf4"
      },
      "execution_count": null,
      "outputs": [
        {
          "output_type": "stream",
          "name": "stdout",
          "text": [
            "Requirement already satisfied: pandas in /usr/local/lib/python3.11/dist-packages (2.2.2)\n",
            "Collecting emoji\n",
            "  Downloading emoji-2.14.1-py3-none-any.whl.metadata (5.7 kB)\n",
            "Requirement already satisfied: numpy>=1.23.2 in /usr/local/lib/python3.11/dist-packages (from pandas) (1.26.4)\n",
            "Requirement already satisfied: python-dateutil>=2.8.2 in /usr/local/lib/python3.11/dist-packages (from pandas) (2.8.2)\n",
            "Requirement already satisfied: pytz>=2020.1 in /usr/local/lib/python3.11/dist-packages (from pandas) (2024.2)\n",
            "Requirement already satisfied: tzdata>=2022.7 in /usr/local/lib/python3.11/dist-packages (from pandas) (2024.2)\n",
            "Requirement already satisfied: six>=1.5 in /usr/local/lib/python3.11/dist-packages (from python-dateutil>=2.8.2->pandas) (1.17.0)\n",
            "Downloading emoji-2.14.1-py3-none-any.whl (590 kB)\n",
            "\u001b[2K   \u001b[90m━━━━━━━━━━━━━━━━━━━━━━━━━━━━━━━━━━━━━━━━\u001b[0m \u001b[32m590.6/590.6 kB\u001b[0m \u001b[31m8.6 MB/s\u001b[0m eta \u001b[36m0:00:00\u001b[0m\n",
            "\u001b[?25hInstalling collected packages: emoji\n",
            "Successfully installed emoji-2.14.1\n",
            "Requirement already satisfied: nltk in /usr/local/lib/python3.11/dist-packages (3.9.1)\n",
            "Requirement already satisfied: click in /usr/local/lib/python3.11/dist-packages (from nltk) (8.1.8)\n",
            "Requirement already satisfied: joblib in /usr/local/lib/python3.11/dist-packages (from nltk) (1.4.2)\n",
            "Requirement already satisfied: regex>=2021.8.3 in /usr/local/lib/python3.11/dist-packages (from nltk) (2024.11.6)\n",
            "Requirement already satisfied: tqdm in /usr/local/lib/python3.11/dist-packages (from nltk) (4.67.1)\n",
            "Requirement already satisfied: textblob in /usr/local/lib/python3.11/dist-packages (0.17.1)\n",
            "Requirement already satisfied: nltk>=3.1 in /usr/local/lib/python3.11/dist-packages (from textblob) (3.9.1)\n",
            "Requirement already satisfied: click in /usr/local/lib/python3.11/dist-packages (from nltk>=3.1->textblob) (8.1.8)\n",
            "Requirement already satisfied: joblib in /usr/local/lib/python3.11/dist-packages (from nltk>=3.1->textblob) (1.4.2)\n",
            "Requirement already satisfied: regex>=2021.8.3 in /usr/local/lib/python3.11/dist-packages (from nltk>=3.1->textblob) (2024.11.6)\n",
            "Requirement already satisfied: tqdm in /usr/local/lib/python3.11/dist-packages (from nltk>=3.1->textblob) (4.67.1)\n",
            "Requirement already satisfied: wordcloud in /usr/local/lib/python3.11/dist-packages (1.9.4)\n",
            "Requirement already satisfied: numpy>=1.6.1 in /usr/local/lib/python3.11/dist-packages (from wordcloud) (1.26.4)\n",
            "Requirement already satisfied: pillow in /usr/local/lib/python3.11/dist-packages (from wordcloud) (11.1.0)\n",
            "Requirement already satisfied: matplotlib in /usr/local/lib/python3.11/dist-packages (from wordcloud) (3.10.0)\n",
            "Requirement already satisfied: contourpy>=1.0.1 in /usr/local/lib/python3.11/dist-packages (from matplotlib->wordcloud) (1.3.1)\n",
            "Requirement already satisfied: cycler>=0.10 in /usr/local/lib/python3.11/dist-packages (from matplotlib->wordcloud) (0.12.1)\n",
            "Requirement already satisfied: fonttools>=4.22.0 in /usr/local/lib/python3.11/dist-packages (from matplotlib->wordcloud) (4.55.3)\n",
            "Requirement already satisfied: kiwisolver>=1.3.1 in /usr/local/lib/python3.11/dist-packages (from matplotlib->wordcloud) (1.4.8)\n",
            "Requirement already satisfied: packaging>=20.0 in /usr/local/lib/python3.11/dist-packages (from matplotlib->wordcloud) (24.2)\n",
            "Requirement already satisfied: pyparsing>=2.3.1 in /usr/local/lib/python3.11/dist-packages (from matplotlib->wordcloud) (3.2.1)\n",
            "Requirement already satisfied: python-dateutil>=2.7 in /usr/local/lib/python3.11/dist-packages (from matplotlib->wordcloud) (2.8.2)\n",
            "Requirement already satisfied: six>=1.5 in /usr/local/lib/python3.11/dist-packages (from python-dateutil>=2.7->matplotlib->wordcloud) (1.17.0)\n",
            "Requirement already satisfied: plotly in /usr/local/lib/python3.11/dist-packages (5.24.1)\n",
            "Requirement already satisfied: tenacity>=6.2.0 in /usr/local/lib/python3.11/dist-packages (from plotly) (9.0.0)\n",
            "Requirement already satisfied: packaging in /usr/local/lib/python3.11/dist-packages (from plotly) (24.2)\n"
          ]
        }
      ]
    },
    {
      "cell_type": "markdown",
      "source": [
        "<font color='red'>**Remember to add comments with hashtags (#) for the code above.**\n",
        "\n",
        "<font color='red'>**- What's the purpose running the above code**"
      ],
      "metadata": {
        "id": "70XWrxcJce7A"
      }
    },
    {
      "cell_type": "code",
      "source": [
        "# Import NumPy, Pandas, and matplotlib\n",
        "import numpy as np\n",
        "import pandas as pd\n",
        "import matplotlib.pyplot as plt\n",
        "import seaborn as sns\n",
        "import emoji\n",
        "import re\n",
        "import nltk\n",
        "from nltk.tokenize import word_tokenize\n",
        "from nltk.corpus import stopwords\n",
        "nltk.download('stopwords')\n",
        "nltk.download('punkt')\n",
        "nltk.download('punkt_tab')"
      ],
      "metadata": {
        "colab": {
          "base_uri": "https://localhost:8080/"
        },
        "id": "WcmVZKUvnTy_",
        "outputId": "3eaa9c19-db5e-4811-95f2-946e73bfa3a5"
      },
      "execution_count": null,
      "outputs": [
        {
          "output_type": "stream",
          "name": "stderr",
          "text": [
            "[nltk_data] Downloading package stopwords to /root/nltk_data...\n",
            "[nltk_data]   Unzipping corpora/stopwords.zip.\n",
            "[nltk_data] Downloading package punkt to /root/nltk_data...\n",
            "[nltk_data]   Unzipping tokenizers/punkt.zip.\n",
            "[nltk_data] Downloading package punkt_tab to /root/nltk_data...\n",
            "[nltk_data]   Unzipping tokenizers/punkt_tab.zip.\n"
          ]
        },
        {
          "output_type": "execute_result",
          "data": {
            "text/plain": [
              "True"
            ]
          },
          "metadata": {},
          "execution_count": 4
        }
      ]
    },
    {
      "cell_type": "markdown",
      "source": [
        "#Step 2: Load the dataset 'tweet.csv'\n",
        "#link : https://www.kaggle.com/datasets/adritpal08/dataset-of-indian-politics-tweets-and-reactions"
      ],
      "metadata": {
        "id": "xwrfixDdoJXC"
      }
    },
    {
      "cell_type": "code",
      "source": [
        "file_path = ('/content/drive/MyDrive/Colab Notebooks/Project 2/tweets.csv')\n",
        "df = pd.read_csv(file_path)"
      ],
      "metadata": {
        "id": "WLTFOd9xnf-b"
      },
      "execution_count": null,
      "outputs": []
    },
    {
      "cell_type": "markdown",
      "source": [
        "<font color='red'>**Remember to add comments with hashtags (#) for the code above.**\n",
        "\n",
        "<font color='red'>**- What's the purpose running the above code**"
      ],
      "metadata": {
        "id": "-YAtrrYubsi4"
      }
    },
    {
      "cell_type": "code",
      "source": [
        "df.head()"
      ],
      "metadata": {
        "colab": {
          "base_uri": "https://localhost:8080/",
          "height": 449
        },
        "id": "8d3KhAfDn1Dd",
        "outputId": "35682c44-ff43-49cc-bcd1-bc3145fac066"
      },
      "execution_count": null,
      "outputs": [
        {
          "output_type": "execute_result",
          "data": {
            "text/plain": [
              "  Unnamed: 0                       Date          User  \\\n",
              "0          0  2023-03-29 15:42:36+00:00   AnandPatni8   \n",
              "1          1  2023-03-29 15:42:05+00:00      dhinamum   \n",
              "2          2  2023-03-29 15:34:29+00:00  PrincetonCGI   \n",
              "3          3  2023-03-29 15:31:43+00:00  RishiJoeSanu   \n",
              "4          4  2023-03-29 15:26:48+00:00  itweetsensee   \n",
              "\n",
              "                                               Tweet  Likes  Retweets  \n",
              "0  @vinodkapri @RahulGandhi Respected Indian Citi...    0.0       0.0  \n",
              "1  *Respected Indian Citizens,* Namaskaar I Am Th...    0.0       0.0  \n",
              "2  1/n-Meet Filmmaker Prakash Jha in New Jersey t...    0.0       0.0  \n",
              "3  @MrinalWahal Why would politicians stop using ...    0.0       0.0  \n",
              "4  @annamalai_k @narendramodi A state level presi...    0.0       0.0  "
            ],
            "text/html": [
              "\n",
              "  <div id=\"df-a50a7f7d-1972-4b91-a82e-d25f5d2c3f68\" class=\"colab-df-container\">\n",
              "    <div>\n",
              "<style scoped>\n",
              "    .dataframe tbody tr th:only-of-type {\n",
              "        vertical-align: middle;\n",
              "    }\n",
              "\n",
              "    .dataframe tbody tr th {\n",
              "        vertical-align: top;\n",
              "    }\n",
              "\n",
              "    .dataframe thead th {\n",
              "        text-align: right;\n",
              "    }\n",
              "</style>\n",
              "<table border=\"1\" class=\"dataframe\">\n",
              "  <thead>\n",
              "    <tr style=\"text-align: right;\">\n",
              "      <th></th>\n",
              "      <th>Unnamed: 0</th>\n",
              "      <th>Date</th>\n",
              "      <th>User</th>\n",
              "      <th>Tweet</th>\n",
              "      <th>Likes</th>\n",
              "      <th>Retweets</th>\n",
              "    </tr>\n",
              "  </thead>\n",
              "  <tbody>\n",
              "    <tr>\n",
              "      <th>0</th>\n",
              "      <td>0</td>\n",
              "      <td>2023-03-29 15:42:36+00:00</td>\n",
              "      <td>AnandPatni8</td>\n",
              "      <td>@vinodkapri @RahulGandhi Respected Indian Citi...</td>\n",
              "      <td>0.0</td>\n",
              "      <td>0.0</td>\n",
              "    </tr>\n",
              "    <tr>\n",
              "      <th>1</th>\n",
              "      <td>1</td>\n",
              "      <td>2023-03-29 15:42:05+00:00</td>\n",
              "      <td>dhinamum</td>\n",
              "      <td>*Respected Indian Citizens,* Namaskaar I Am Th...</td>\n",
              "      <td>0.0</td>\n",
              "      <td>0.0</td>\n",
              "    </tr>\n",
              "    <tr>\n",
              "      <th>2</th>\n",
              "      <td>2</td>\n",
              "      <td>2023-03-29 15:34:29+00:00</td>\n",
              "      <td>PrincetonCGI</td>\n",
              "      <td>1/n-Meet Filmmaker Prakash Jha in New Jersey t...</td>\n",
              "      <td>0.0</td>\n",
              "      <td>0.0</td>\n",
              "    </tr>\n",
              "    <tr>\n",
              "      <th>3</th>\n",
              "      <td>3</td>\n",
              "      <td>2023-03-29 15:31:43+00:00</td>\n",
              "      <td>RishiJoeSanu</td>\n",
              "      <td>@MrinalWahal Why would politicians stop using ...</td>\n",
              "      <td>0.0</td>\n",
              "      <td>0.0</td>\n",
              "    </tr>\n",
              "    <tr>\n",
              "      <th>4</th>\n",
              "      <td>4</td>\n",
              "      <td>2023-03-29 15:26:48+00:00</td>\n",
              "      <td>itweetsensee</td>\n",
              "      <td>@annamalai_k @narendramodi A state level presi...</td>\n",
              "      <td>0.0</td>\n",
              "      <td>0.0</td>\n",
              "    </tr>\n",
              "  </tbody>\n",
              "</table>\n",
              "</div>\n",
              "    <div class=\"colab-df-buttons\">\n",
              "\n",
              "  <div class=\"colab-df-container\">\n",
              "    <button class=\"colab-df-convert\" onclick=\"convertToInteractive('df-a50a7f7d-1972-4b91-a82e-d25f5d2c3f68')\"\n",
              "            title=\"Convert this dataframe to an interactive table.\"\n",
              "            style=\"display:none;\">\n",
              "\n",
              "  <svg xmlns=\"http://www.w3.org/2000/svg\" height=\"24px\" viewBox=\"0 -960 960 960\">\n",
              "    <path d=\"M120-120v-720h720v720H120Zm60-500h600v-160H180v160Zm220 220h160v-160H400v160Zm0 220h160v-160H400v160ZM180-400h160v-160H180v160Zm440 0h160v-160H620v160ZM180-180h160v-160H180v160Zm440 0h160v-160H620v160Z\"/>\n",
              "  </svg>\n",
              "    </button>\n",
              "\n",
              "  <style>\n",
              "    .colab-df-container {\n",
              "      display:flex;\n",
              "      gap: 12px;\n",
              "    }\n",
              "\n",
              "    .colab-df-convert {\n",
              "      background-color: #E8F0FE;\n",
              "      border: none;\n",
              "      border-radius: 50%;\n",
              "      cursor: pointer;\n",
              "      display: none;\n",
              "      fill: #1967D2;\n",
              "      height: 32px;\n",
              "      padding: 0 0 0 0;\n",
              "      width: 32px;\n",
              "    }\n",
              "\n",
              "    .colab-df-convert:hover {\n",
              "      background-color: #E2EBFA;\n",
              "      box-shadow: 0px 1px 2px rgba(60, 64, 67, 0.3), 0px 1px 3px 1px rgba(60, 64, 67, 0.15);\n",
              "      fill: #174EA6;\n",
              "    }\n",
              "\n",
              "    .colab-df-buttons div {\n",
              "      margin-bottom: 4px;\n",
              "    }\n",
              "\n",
              "    [theme=dark] .colab-df-convert {\n",
              "      background-color: #3B4455;\n",
              "      fill: #D2E3FC;\n",
              "    }\n",
              "\n",
              "    [theme=dark] .colab-df-convert:hover {\n",
              "      background-color: #434B5C;\n",
              "      box-shadow: 0px 1px 3px 1px rgba(0, 0, 0, 0.15);\n",
              "      filter: drop-shadow(0px 1px 2px rgba(0, 0, 0, 0.3));\n",
              "      fill: #FFFFFF;\n",
              "    }\n",
              "  </style>\n",
              "\n",
              "    <script>\n",
              "      const buttonEl =\n",
              "        document.querySelector('#df-a50a7f7d-1972-4b91-a82e-d25f5d2c3f68 button.colab-df-convert');\n",
              "      buttonEl.style.display =\n",
              "        google.colab.kernel.accessAllowed ? 'block' : 'none';\n",
              "\n",
              "      async function convertToInteractive(key) {\n",
              "        const element = document.querySelector('#df-a50a7f7d-1972-4b91-a82e-d25f5d2c3f68');\n",
              "        const dataTable =\n",
              "          await google.colab.kernel.invokeFunction('convertToInteractive',\n",
              "                                                    [key], {});\n",
              "        if (!dataTable) return;\n",
              "\n",
              "        const docLinkHtml = 'Like what you see? Visit the ' +\n",
              "          '<a target=\"_blank\" href=https://colab.research.google.com/notebooks/data_table.ipynb>data table notebook</a>'\n",
              "          + ' to learn more about interactive tables.';\n",
              "        element.innerHTML = '';\n",
              "        dataTable['output_type'] = 'display_data';\n",
              "        await google.colab.output.renderOutput(dataTable, element);\n",
              "        const docLink = document.createElement('div');\n",
              "        docLink.innerHTML = docLinkHtml;\n",
              "        element.appendChild(docLink);\n",
              "      }\n",
              "    </script>\n",
              "  </div>\n",
              "\n",
              "\n",
              "<div id=\"df-a38950d7-e166-41ba-9da0-e435d6b239d6\">\n",
              "  <button class=\"colab-df-quickchart\" onclick=\"quickchart('df-a38950d7-e166-41ba-9da0-e435d6b239d6')\"\n",
              "            title=\"Suggest charts\"\n",
              "            style=\"display:none;\">\n",
              "\n",
              "<svg xmlns=\"http://www.w3.org/2000/svg\" height=\"24px\"viewBox=\"0 0 24 24\"\n",
              "     width=\"24px\">\n",
              "    <g>\n",
              "        <path d=\"M19 3H5c-1.1 0-2 .9-2 2v14c0 1.1.9 2 2 2h14c1.1 0 2-.9 2-2V5c0-1.1-.9-2-2-2zM9 17H7v-7h2v7zm4 0h-2V7h2v10zm4 0h-2v-4h2v4z\"/>\n",
              "    </g>\n",
              "</svg>\n",
              "  </button>\n",
              "\n",
              "<style>\n",
              "  .colab-df-quickchart {\n",
              "      --bg-color: #E8F0FE;\n",
              "      --fill-color: #1967D2;\n",
              "      --hover-bg-color: #E2EBFA;\n",
              "      --hover-fill-color: #174EA6;\n",
              "      --disabled-fill-color: #AAA;\n",
              "      --disabled-bg-color: #DDD;\n",
              "  }\n",
              "\n",
              "  [theme=dark] .colab-df-quickchart {\n",
              "      --bg-color: #3B4455;\n",
              "      --fill-color: #D2E3FC;\n",
              "      --hover-bg-color: #434B5C;\n",
              "      --hover-fill-color: #FFFFFF;\n",
              "      --disabled-bg-color: #3B4455;\n",
              "      --disabled-fill-color: #666;\n",
              "  }\n",
              "\n",
              "  .colab-df-quickchart {\n",
              "    background-color: var(--bg-color);\n",
              "    border: none;\n",
              "    border-radius: 50%;\n",
              "    cursor: pointer;\n",
              "    display: none;\n",
              "    fill: var(--fill-color);\n",
              "    height: 32px;\n",
              "    padding: 0;\n",
              "    width: 32px;\n",
              "  }\n",
              "\n",
              "  .colab-df-quickchart:hover {\n",
              "    background-color: var(--hover-bg-color);\n",
              "    box-shadow: 0 1px 2px rgba(60, 64, 67, 0.3), 0 1px 3px 1px rgba(60, 64, 67, 0.15);\n",
              "    fill: var(--button-hover-fill-color);\n",
              "  }\n",
              "\n",
              "  .colab-df-quickchart-complete:disabled,\n",
              "  .colab-df-quickchart-complete:disabled:hover {\n",
              "    background-color: var(--disabled-bg-color);\n",
              "    fill: var(--disabled-fill-color);\n",
              "    box-shadow: none;\n",
              "  }\n",
              "\n",
              "  .colab-df-spinner {\n",
              "    border: 2px solid var(--fill-color);\n",
              "    border-color: transparent;\n",
              "    border-bottom-color: var(--fill-color);\n",
              "    animation:\n",
              "      spin 1s steps(1) infinite;\n",
              "  }\n",
              "\n",
              "  @keyframes spin {\n",
              "    0% {\n",
              "      border-color: transparent;\n",
              "      border-bottom-color: var(--fill-color);\n",
              "      border-left-color: var(--fill-color);\n",
              "    }\n",
              "    20% {\n",
              "      border-color: transparent;\n",
              "      border-left-color: var(--fill-color);\n",
              "      border-top-color: var(--fill-color);\n",
              "    }\n",
              "    30% {\n",
              "      border-color: transparent;\n",
              "      border-left-color: var(--fill-color);\n",
              "      border-top-color: var(--fill-color);\n",
              "      border-right-color: var(--fill-color);\n",
              "    }\n",
              "    40% {\n",
              "      border-color: transparent;\n",
              "      border-right-color: var(--fill-color);\n",
              "      border-top-color: var(--fill-color);\n",
              "    }\n",
              "    60% {\n",
              "      border-color: transparent;\n",
              "      border-right-color: var(--fill-color);\n",
              "    }\n",
              "    80% {\n",
              "      border-color: transparent;\n",
              "      border-right-color: var(--fill-color);\n",
              "      border-bottom-color: var(--fill-color);\n",
              "    }\n",
              "    90% {\n",
              "      border-color: transparent;\n",
              "      border-bottom-color: var(--fill-color);\n",
              "    }\n",
              "  }\n",
              "</style>\n",
              "\n",
              "  <script>\n",
              "    async function quickchart(key) {\n",
              "      const quickchartButtonEl =\n",
              "        document.querySelector('#' + key + ' button');\n",
              "      quickchartButtonEl.disabled = true;  // To prevent multiple clicks.\n",
              "      quickchartButtonEl.classList.add('colab-df-spinner');\n",
              "      try {\n",
              "        const charts = await google.colab.kernel.invokeFunction(\n",
              "            'suggestCharts', [key], {});\n",
              "      } catch (error) {\n",
              "        console.error('Error during call to suggestCharts:', error);\n",
              "      }\n",
              "      quickchartButtonEl.classList.remove('colab-df-spinner');\n",
              "      quickchartButtonEl.classList.add('colab-df-quickchart-complete');\n",
              "    }\n",
              "    (() => {\n",
              "      let quickchartButtonEl =\n",
              "        document.querySelector('#df-a38950d7-e166-41ba-9da0-e435d6b239d6 button');\n",
              "      quickchartButtonEl.style.display =\n",
              "        google.colab.kernel.accessAllowed ? 'block' : 'none';\n",
              "    })();\n",
              "  </script>\n",
              "</div>\n",
              "\n",
              "    </div>\n",
              "  </div>\n"
            ],
            "application/vnd.google.colaboratory.intrinsic+json": {
              "type": "dataframe",
              "variable_name": "df",
              "summary": "{\n  \"name\": \"df\",\n  \"rows\": 50001,\n  \"fields\": [\n    {\n      \"column\": \"Unnamed: 0\",\n      \"properties\": {\n        \"dtype\": \"string\",\n        \"num_unique_values\": 50001,\n        \"samples\": [\n          \"33552\",\n          \"9427\",\n          \"199\"\n        ],\n        \"semantic_type\": \"\",\n        \"description\": \"\"\n      }\n    },\n    {\n      \"column\": \"Date\",\n      \"properties\": {\n        \"dtype\": \"string\",\n        \"num_unique_values\": 49822,\n        \"samples\": [\n          \"2023-01-22 01:35:50+00:00\",\n          \"2023-01-31 21:50:13+00:00\",\n          \"2022-12-14 04:40:19+00:00\"\n        ],\n        \"semantic_type\": \"\",\n        \"description\": \"\"\n      }\n    },\n    {\n      \"column\": \"User\",\n      \"properties\": {\n        \"dtype\": \"string\",\n        \"num_unique_values\": 35110,\n        \"samples\": [\n          \"TayyabaAsad6\",\n          \"Kameshr87086323\",\n          \"utkarsh_gupta36\"\n        ],\n        \"semantic_type\": \"\",\n        \"description\": \"\"\n      }\n    },\n    {\n      \"column\": \"Tweet\",\n      \"properties\": {\n        \"dtype\": \"string\",\n        \"num_unique_values\": 49569,\n        \"samples\": [\n          \"@bestyasdf1233 @BTPakistan Bro he demanded country later, he was fedup by the indian politics at that time. And thats the point i m trying u to understand. Although u can disagree.\",\n          \"\\u25a0 patience, and resolve. From just two seats in 1984 Lok Sabha elections, the BJP now dominates Indian politics. It wins elections, sets the agenda, controls the narrative, wields hegemonic control over political discourse and forces the Opposition to play on its turf.\",\n          \"All India's Hate Politics and Houses Run by the name of Indian Muslims @BBCWorld @CNN\"\n        ],\n        \"semantic_type\": \"\",\n        \"description\": \"\"\n      }\n    },\n    {\n      \"column\": \"Likes\",\n      \"properties\": {\n        \"dtype\": \"number\",\n        \"std\": 243.1165720282207,\n        \"min\": 0.0,\n        \"max\": 20716.0,\n        \"num_unique_values\": 598,\n        \"samples\": [\n          1727.0,\n          446.0,\n          1483.0\n        ],\n        \"semantic_type\": \"\",\n        \"description\": \"\"\n      }\n    },\n    {\n      \"column\": \"Retweets\",\n      \"properties\": {\n        \"dtype\": \"number\",\n        \"std\": 53.452614900442356,\n        \"min\": 0.0,\n        \"max\": 6551.0,\n        \"num_unique_values\": 312,\n        \"samples\": [\n          283.0,\n          7.0,\n          32.0\n        ],\n        \"semantic_type\": \"\",\n        \"description\": \"\"\n      }\n    }\n  ]\n}"
            }
          },
          "metadata": {},
          "execution_count": 6
        }
      ]
    },
    {
      "cell_type": "markdown",
      "source": [
        "<font color='red'>**Remember to add comments with hashtags (#) for the code above.**\n",
        "\n",
        "<font color='red'>**- What's the purpose running the above code**"
      ],
      "metadata": {
        "id": "067fXgJdcRGa"
      }
    },
    {
      "cell_type": "code",
      "source": [
        "df.info()"
      ],
      "metadata": {
        "colab": {
          "base_uri": "https://localhost:8080/"
        },
        "id": "3JomiUFgn8TM",
        "outputId": "da7038a1-f11c-4575-f024-722ef7033aeb"
      },
      "execution_count": null,
      "outputs": [
        {
          "output_type": "stream",
          "name": "stdout",
          "text": [
            "<class 'pandas.core.frame.DataFrame'>\n",
            "RangeIndex: 50001 entries, 0 to 50000\n",
            "Data columns (total 6 columns):\n",
            " #   Column      Non-Null Count  Dtype  \n",
            "---  ------      --------------  -----  \n",
            " 0   Unnamed: 0  50001 non-null  object \n",
            " 1   Date        50001 non-null  object \n",
            " 2   User        50001 non-null  object \n",
            " 3   Tweet       50000 non-null  object \n",
            " 4   Likes       49999 non-null  float64\n",
            " 5   Retweets    49999 non-null  float64\n",
            "dtypes: float64(2), object(4)\n",
            "memory usage: 2.3+ MB\n"
          ]
        }
      ]
    },
    {
      "cell_type": "markdown",
      "source": [
        "<font color='red'>**Comments:**\n",
        "\n",
        "<font color='red'>**1. Remember to add comments with hashtags (#) for the code above.**\n",
        "\n",
        "<font color='red'>**- What's the purpose running the above code**\n",
        "\n",
        "<font color='red'>**2. Based on the output above, do the data types meet your expectations? Please provide an explanation to help guide the readers.**"
      ],
      "metadata": {
        "id": "GLUb7JZ9cSJT"
      }
    },
    {
      "cell_type": "markdown",
      "source": [
        "#Step 3: Wrangling the Data"
      ],
      "metadata": {
        "id": "CgHqpzcrcJ4Y"
      }
    },
    {
      "cell_type": "markdown",
      "source": [
        "##Check All unique users from dataset"
      ],
      "metadata": {
        "id": "vQtQUFLp16y8"
      }
    },
    {
      "cell_type": "code",
      "source": [
        "all_unique_users_count = df['User'].nunique()\n",
        "print(\"Number of unique users:\", all_unique_users_count)"
      ],
      "metadata": {
        "colab": {
          "base_uri": "https://localhost:8080/"
        },
        "id": "MV847sEL1h9q",
        "outputId": "fb6ed7ea-a71a-4454-a9e8-684c19183025"
      },
      "execution_count": null,
      "outputs": [
        {
          "output_type": "stream",
          "name": "stdout",
          "text": [
            "Number of unique users: 35110\n"
          ]
        }
      ]
    },
    {
      "cell_type": "markdown",
      "source": [
        "<font color='red'>**Remember to add comments with hashtags (#) for the code above.**\n",
        "\n",
        "<font color='red'>**- What's the purpose running the above code**"
      ],
      "metadata": {
        "id": "-oJAIntxcTgC"
      }
    },
    {
      "cell_type": "markdown",
      "source": [
        "##Sampled the data to 40% of rows randomly"
      ],
      "metadata": {
        "id": "O2UputhQ1FnG"
      }
    },
    {
      "cell_type": "code",
      "source": [
        "sampled_df = df.sample(frac=0.40, random_state=42)"
      ],
      "metadata": {
        "id": "v5InPw-uoAdJ"
      },
      "execution_count": null,
      "outputs": []
    },
    {
      "cell_type": "markdown",
      "source": [
        "<font color='red'>**Remember to add comments with hashtags (#) for the code above.**\n",
        "\n",
        "<font color='red'>**1. What's the purpose running the above code**\n",
        "\n",
        "<font color='red'>**2. What is your justification for sampling 40% of the rows? What is the purpose of this sampling?**"
      ],
      "metadata": {
        "id": "GuRzKvD5cVGH"
      }
    },
    {
      "cell_type": "code",
      "source": [
        "sampled_df.info()"
      ],
      "metadata": {
        "colab": {
          "base_uri": "https://localhost:8080/"
        },
        "id": "uGEqATJrosGJ",
        "outputId": "e1c37abf-44b8-43de-e696-f1d15d28f7c8"
      },
      "execution_count": null,
      "outputs": [
        {
          "output_type": "stream",
          "name": "stdout",
          "text": [
            "<class 'pandas.core.frame.DataFrame'>\n",
            "Index: 20000 entries, 33553 to 42327\n",
            "Data columns (total 6 columns):\n",
            " #   Column      Non-Null Count  Dtype  \n",
            "---  ------      --------------  -----  \n",
            " 0   Unnamed: 0  20000 non-null  object \n",
            " 1   Date        20000 non-null  object \n",
            " 2   User        20000 non-null  object \n",
            " 3   Tweet       20000 non-null  object \n",
            " 4   Likes       19999 non-null  float64\n",
            " 5   Retweets    19999 non-null  float64\n",
            "dtypes: float64(2), object(4)\n",
            "memory usage: 1.1+ MB\n"
          ]
        }
      ]
    },
    {
      "cell_type": "markdown",
      "source": [
        "<font color='red'>**Remember to add comments with hashtags (#) for the code above.**\n",
        "\n",
        "<font color='red'>**1. What's the purpose running the above code**\n",
        "\n",
        "<font color='red'>**2. Based on the output above, do the data types now already meet your expectations? Please provide an explanation to help guide the readers.**"
      ],
      "metadata": {
        "id": "x5GypuEQcWeH"
      }
    },
    {
      "cell_type": "code",
      "source": [
        "sampled_df.head()"
      ],
      "metadata": {
        "colab": {
          "base_uri": "https://localhost:8080/",
          "height": 452
        },
        "id": "T10xyA7Zowkc",
        "outputId": "6e15601e-8920-4d16-b03d-f0df01cc2444"
      },
      "execution_count": null,
      "outputs": [
        {
          "output_type": "execute_result",
          "data": {
            "text/plain": [
              "      Unnamed: 0                       Date            User  \\\n",
              "33553      33552  2022-12-02 10:51:11+00:00        fekubawa   \n",
              "9427        9427  2023-03-07 04:05:38+00:00       IRASP_UWA   \n",
              "199          199  2023-03-29 09:36:41+00:00    WhybotherMeh   \n",
              "12447      12447  2023-02-25 10:38:25+00:00   albert_colaco   \n",
              "39489      39488  2022-11-11 11:20:19+00:00  adwitiya_singh   \n",
              "\n",
              "                                                   Tweet  Likes  Retweets  \n",
              "33553  @desimojito Yeah and since 2014 Modi has pulle...    1.0       0.0  \n",
              "9427   Felix Pal is a #qualitative #PoliticalScientis...    1.0       1.0  \n",
              "199    @ShefVaidya @RahulGandhi Never seen any other ...    0.0       0.0  \n",
              "12447  @amitmalviya Your leadership is lying every da...    0.0       0.0  \n",
              "39489  @Politics_2022_ @mayank_sxn That's the same th...    0.0       0.0  "
            ],
            "text/html": [
              "\n",
              "  <div id=\"df-1e36abdf-4c4d-490b-8cf8-2bd29b442ffa\" class=\"colab-df-container\">\n",
              "    <div>\n",
              "<style scoped>\n",
              "    .dataframe tbody tr th:only-of-type {\n",
              "        vertical-align: middle;\n",
              "    }\n",
              "\n",
              "    .dataframe tbody tr th {\n",
              "        vertical-align: top;\n",
              "    }\n",
              "\n",
              "    .dataframe thead th {\n",
              "        text-align: right;\n",
              "    }\n",
              "</style>\n",
              "<table border=\"1\" class=\"dataframe\">\n",
              "  <thead>\n",
              "    <tr style=\"text-align: right;\">\n",
              "      <th></th>\n",
              "      <th>Unnamed: 0</th>\n",
              "      <th>Date</th>\n",
              "      <th>User</th>\n",
              "      <th>Tweet</th>\n",
              "      <th>Likes</th>\n",
              "      <th>Retweets</th>\n",
              "    </tr>\n",
              "  </thead>\n",
              "  <tbody>\n",
              "    <tr>\n",
              "      <th>33553</th>\n",
              "      <td>33552</td>\n",
              "      <td>2022-12-02 10:51:11+00:00</td>\n",
              "      <td>fekubawa</td>\n",
              "      <td>@desimojito Yeah and since 2014 Modi has pulle...</td>\n",
              "      <td>1.0</td>\n",
              "      <td>0.0</td>\n",
              "    </tr>\n",
              "    <tr>\n",
              "      <th>9427</th>\n",
              "      <td>9427</td>\n",
              "      <td>2023-03-07 04:05:38+00:00</td>\n",
              "      <td>IRASP_UWA</td>\n",
              "      <td>Felix Pal is a #qualitative #PoliticalScientis...</td>\n",
              "      <td>1.0</td>\n",
              "      <td>1.0</td>\n",
              "    </tr>\n",
              "    <tr>\n",
              "      <th>199</th>\n",
              "      <td>199</td>\n",
              "      <td>2023-03-29 09:36:41+00:00</td>\n",
              "      <td>WhybotherMeh</td>\n",
              "      <td>@ShefVaidya @RahulGandhi Never seen any other ...</td>\n",
              "      <td>0.0</td>\n",
              "      <td>0.0</td>\n",
              "    </tr>\n",
              "    <tr>\n",
              "      <th>12447</th>\n",
              "      <td>12447</td>\n",
              "      <td>2023-02-25 10:38:25+00:00</td>\n",
              "      <td>albert_colaco</td>\n",
              "      <td>@amitmalviya Your leadership is lying every da...</td>\n",
              "      <td>0.0</td>\n",
              "      <td>0.0</td>\n",
              "    </tr>\n",
              "    <tr>\n",
              "      <th>39489</th>\n",
              "      <td>39488</td>\n",
              "      <td>2022-11-11 11:20:19+00:00</td>\n",
              "      <td>adwitiya_singh</td>\n",
              "      <td>@Politics_2022_ @mayank_sxn That's the same th...</td>\n",
              "      <td>0.0</td>\n",
              "      <td>0.0</td>\n",
              "    </tr>\n",
              "  </tbody>\n",
              "</table>\n",
              "</div>\n",
              "    <div class=\"colab-df-buttons\">\n",
              "\n",
              "  <div class=\"colab-df-container\">\n",
              "    <button class=\"colab-df-convert\" onclick=\"convertToInteractive('df-1e36abdf-4c4d-490b-8cf8-2bd29b442ffa')\"\n",
              "            title=\"Convert this dataframe to an interactive table.\"\n",
              "            style=\"display:none;\">\n",
              "\n",
              "  <svg xmlns=\"http://www.w3.org/2000/svg\" height=\"24px\" viewBox=\"0 -960 960 960\">\n",
              "    <path d=\"M120-120v-720h720v720H120Zm60-500h600v-160H180v160Zm220 220h160v-160H400v160Zm0 220h160v-160H400v160ZM180-400h160v-160H180v160Zm440 0h160v-160H620v160ZM180-180h160v-160H180v160Zm440 0h160v-160H620v160Z\"/>\n",
              "  </svg>\n",
              "    </button>\n",
              "\n",
              "  <style>\n",
              "    .colab-df-container {\n",
              "      display:flex;\n",
              "      gap: 12px;\n",
              "    }\n",
              "\n",
              "    .colab-df-convert {\n",
              "      background-color: #E8F0FE;\n",
              "      border: none;\n",
              "      border-radius: 50%;\n",
              "      cursor: pointer;\n",
              "      display: none;\n",
              "      fill: #1967D2;\n",
              "      height: 32px;\n",
              "      padding: 0 0 0 0;\n",
              "      width: 32px;\n",
              "    }\n",
              "\n",
              "    .colab-df-convert:hover {\n",
              "      background-color: #E2EBFA;\n",
              "      box-shadow: 0px 1px 2px rgba(60, 64, 67, 0.3), 0px 1px 3px 1px rgba(60, 64, 67, 0.15);\n",
              "      fill: #174EA6;\n",
              "    }\n",
              "\n",
              "    .colab-df-buttons div {\n",
              "      margin-bottom: 4px;\n",
              "    }\n",
              "\n",
              "    [theme=dark] .colab-df-convert {\n",
              "      background-color: #3B4455;\n",
              "      fill: #D2E3FC;\n",
              "    }\n",
              "\n",
              "    [theme=dark] .colab-df-convert:hover {\n",
              "      background-color: #434B5C;\n",
              "      box-shadow: 0px 1px 3px 1px rgba(0, 0, 0, 0.15);\n",
              "      filter: drop-shadow(0px 1px 2px rgba(0, 0, 0, 0.3));\n",
              "      fill: #FFFFFF;\n",
              "    }\n",
              "  </style>\n",
              "\n",
              "    <script>\n",
              "      const buttonEl =\n",
              "        document.querySelector('#df-1e36abdf-4c4d-490b-8cf8-2bd29b442ffa button.colab-df-convert');\n",
              "      buttonEl.style.display =\n",
              "        google.colab.kernel.accessAllowed ? 'block' : 'none';\n",
              "\n",
              "      async function convertToInteractive(key) {\n",
              "        const element = document.querySelector('#df-1e36abdf-4c4d-490b-8cf8-2bd29b442ffa');\n",
              "        const dataTable =\n",
              "          await google.colab.kernel.invokeFunction('convertToInteractive',\n",
              "                                                    [key], {});\n",
              "        if (!dataTable) return;\n",
              "\n",
              "        const docLinkHtml = 'Like what you see? Visit the ' +\n",
              "          '<a target=\"_blank\" href=https://colab.research.google.com/notebooks/data_table.ipynb>data table notebook</a>'\n",
              "          + ' to learn more about interactive tables.';\n",
              "        element.innerHTML = '';\n",
              "        dataTable['output_type'] = 'display_data';\n",
              "        await google.colab.output.renderOutput(dataTable, element);\n",
              "        const docLink = document.createElement('div');\n",
              "        docLink.innerHTML = docLinkHtml;\n",
              "        element.appendChild(docLink);\n",
              "      }\n",
              "    </script>\n",
              "  </div>\n",
              "\n",
              "\n",
              "<div id=\"df-ffd1cf09-cf92-467b-b299-460018ba92c1\">\n",
              "  <button class=\"colab-df-quickchart\" onclick=\"quickchart('df-ffd1cf09-cf92-467b-b299-460018ba92c1')\"\n",
              "            title=\"Suggest charts\"\n",
              "            style=\"display:none;\">\n",
              "\n",
              "<svg xmlns=\"http://www.w3.org/2000/svg\" height=\"24px\"viewBox=\"0 0 24 24\"\n",
              "     width=\"24px\">\n",
              "    <g>\n",
              "        <path d=\"M19 3H5c-1.1 0-2 .9-2 2v14c0 1.1.9 2 2 2h14c1.1 0 2-.9 2-2V5c0-1.1-.9-2-2-2zM9 17H7v-7h2v7zm4 0h-2V7h2v10zm4 0h-2v-4h2v4z\"/>\n",
              "    </g>\n",
              "</svg>\n",
              "  </button>\n",
              "\n",
              "<style>\n",
              "  .colab-df-quickchart {\n",
              "      --bg-color: #E8F0FE;\n",
              "      --fill-color: #1967D2;\n",
              "      --hover-bg-color: #E2EBFA;\n",
              "      --hover-fill-color: #174EA6;\n",
              "      --disabled-fill-color: #AAA;\n",
              "      --disabled-bg-color: #DDD;\n",
              "  }\n",
              "\n",
              "  [theme=dark] .colab-df-quickchart {\n",
              "      --bg-color: #3B4455;\n",
              "      --fill-color: #D2E3FC;\n",
              "      --hover-bg-color: #434B5C;\n",
              "      --hover-fill-color: #FFFFFF;\n",
              "      --disabled-bg-color: #3B4455;\n",
              "      --disabled-fill-color: #666;\n",
              "  }\n",
              "\n",
              "  .colab-df-quickchart {\n",
              "    background-color: var(--bg-color);\n",
              "    border: none;\n",
              "    border-radius: 50%;\n",
              "    cursor: pointer;\n",
              "    display: none;\n",
              "    fill: var(--fill-color);\n",
              "    height: 32px;\n",
              "    padding: 0;\n",
              "    width: 32px;\n",
              "  }\n",
              "\n",
              "  .colab-df-quickchart:hover {\n",
              "    background-color: var(--hover-bg-color);\n",
              "    box-shadow: 0 1px 2px rgba(60, 64, 67, 0.3), 0 1px 3px 1px rgba(60, 64, 67, 0.15);\n",
              "    fill: var(--button-hover-fill-color);\n",
              "  }\n",
              "\n",
              "  .colab-df-quickchart-complete:disabled,\n",
              "  .colab-df-quickchart-complete:disabled:hover {\n",
              "    background-color: var(--disabled-bg-color);\n",
              "    fill: var(--disabled-fill-color);\n",
              "    box-shadow: none;\n",
              "  }\n",
              "\n",
              "  .colab-df-spinner {\n",
              "    border: 2px solid var(--fill-color);\n",
              "    border-color: transparent;\n",
              "    border-bottom-color: var(--fill-color);\n",
              "    animation:\n",
              "      spin 1s steps(1) infinite;\n",
              "  }\n",
              "\n",
              "  @keyframes spin {\n",
              "    0% {\n",
              "      border-color: transparent;\n",
              "      border-bottom-color: var(--fill-color);\n",
              "      border-left-color: var(--fill-color);\n",
              "    }\n",
              "    20% {\n",
              "      border-color: transparent;\n",
              "      border-left-color: var(--fill-color);\n",
              "      border-top-color: var(--fill-color);\n",
              "    }\n",
              "    30% {\n",
              "      border-color: transparent;\n",
              "      border-left-color: var(--fill-color);\n",
              "      border-top-color: var(--fill-color);\n",
              "      border-right-color: var(--fill-color);\n",
              "    }\n",
              "    40% {\n",
              "      border-color: transparent;\n",
              "      border-right-color: var(--fill-color);\n",
              "      border-top-color: var(--fill-color);\n",
              "    }\n",
              "    60% {\n",
              "      border-color: transparent;\n",
              "      border-right-color: var(--fill-color);\n",
              "    }\n",
              "    80% {\n",
              "      border-color: transparent;\n",
              "      border-right-color: var(--fill-color);\n",
              "      border-bottom-color: var(--fill-color);\n",
              "    }\n",
              "    90% {\n",
              "      border-color: transparent;\n",
              "      border-bottom-color: var(--fill-color);\n",
              "    }\n",
              "  }\n",
              "</style>\n",
              "\n",
              "  <script>\n",
              "    async function quickchart(key) {\n",
              "      const quickchartButtonEl =\n",
              "        document.querySelector('#' + key + ' button');\n",
              "      quickchartButtonEl.disabled = true;  // To prevent multiple clicks.\n",
              "      quickchartButtonEl.classList.add('colab-df-spinner');\n",
              "      try {\n",
              "        const charts = await google.colab.kernel.invokeFunction(\n",
              "            'suggestCharts', [key], {});\n",
              "      } catch (error) {\n",
              "        console.error('Error during call to suggestCharts:', error);\n",
              "      }\n",
              "      quickchartButtonEl.classList.remove('colab-df-spinner');\n",
              "      quickchartButtonEl.classList.add('colab-df-quickchart-complete');\n",
              "    }\n",
              "    (() => {\n",
              "      let quickchartButtonEl =\n",
              "        document.querySelector('#df-ffd1cf09-cf92-467b-b299-460018ba92c1 button');\n",
              "      quickchartButtonEl.style.display =\n",
              "        google.colab.kernel.accessAllowed ? 'block' : 'none';\n",
              "    })();\n",
              "  </script>\n",
              "</div>\n",
              "\n",
              "    </div>\n",
              "  </div>\n"
            ],
            "application/vnd.google.colaboratory.intrinsic+json": {
              "type": "dataframe",
              "variable_name": "sampled_df",
              "summary": "{\n  \"name\": \"sampled_df\",\n  \"rows\": 20000,\n  \"fields\": [\n    {\n      \"column\": \"Unnamed: 0\",\n      \"properties\": {\n        \"dtype\": \"string\",\n        \"num_unique_values\": 20000,\n        \"samples\": [\n          \"26890\",\n          \"25023\",\n          \"11666\"\n        ],\n        \"semantic_type\": \"\",\n        \"description\": \"\"\n      }\n    },\n    {\n      \"column\": \"Date\",\n      \"properties\": {\n        \"dtype\": \"object\",\n        \"num_unique_values\": 19974,\n        \"samples\": [\n          \"2022-12-04 16:35:45+00:00\",\n          \"2023-02-22 00:02:34+00:00\",\n          \"2022-12-26 18:02:23+00:00\"\n        ],\n        \"semantic_type\": \"\",\n        \"description\": \"\"\n      }\n    },\n    {\n      \"column\": \"User\",\n      \"properties\": {\n        \"dtype\": \"string\",\n        \"num_unique_values\": 16166,\n        \"samples\": [\n          \"subhajit_n\",\n          \"EnkayKotiyath\",\n          \"aditya_tweets\"\n        ],\n        \"semantic_type\": \"\",\n        \"description\": \"\"\n      }\n    },\n    {\n      \"column\": \"Tweet\",\n      \"properties\": {\n        \"dtype\": \"string\",\n        \"num_unique_values\": 19896,\n        \"samples\": [\n          \"Naveen's 24 in Odisha and its relevance in Indian Politics.\\n@Siba_TNIE https://t.co/dHlp91MUEA\",\n          \"@INCIndia Unfortunetly your doors are locked in indian politics for ever....and nothing can change that...\",\n          \"British politics is a old posh white guy from the Conservative party named Littersnatch-Crabbington and a young Indian guy from Labour arguing endlessly forever despite the only clear policy difference between them being whether the middle class should play 50% or 51% income tax\"\n        ],\n        \"semantic_type\": \"\",\n        \"description\": \"\"\n      }\n    },\n    {\n      \"column\": \"Likes\",\n      \"properties\": {\n        \"dtype\": \"number\",\n        \"std\": 272.83793225284586,\n        \"min\": 0.0,\n        \"max\": 20716.0,\n        \"num_unique_values\": 360,\n        \"samples\": [\n          916.0,\n          21.0,\n          135.0\n        ],\n        \"semantic_type\": \"\",\n        \"description\": \"\"\n      }\n    },\n    {\n      \"column\": \"Retweets\",\n      \"properties\": {\n        \"dtype\": \"number\",\n        \"std\": 63.153233186490404,\n        \"min\": 0.0,\n        \"max\": 6551.0,\n        \"num_unique_values\": 190,\n        \"samples\": [\n          634.0,\n          166.0,\n          125.0\n        ],\n        \"semantic_type\": \"\",\n        \"description\": \"\"\n      }\n    }\n  ]\n}"
            }
          },
          "metadata": {},
          "execution_count": 11
        }
      ]
    },
    {
      "cell_type": "markdown",
      "source": [
        "<font color='red'>**Remember to add comments with hashtags (#) for the code above.**\n",
        "\n",
        "<font color='red'>**- What's the purpose running the above code**"
      ],
      "metadata": {
        "id": "LgBE6JlbcXio"
      }
    },
    {
      "cell_type": "code",
      "source": [
        "sampled_df.tail()"
      ],
      "metadata": {
        "colab": {
          "base_uri": "https://localhost:8080/",
          "height": 504
        },
        "id": "j7gmwrW5o_eq",
        "outputId": "872dfffb-1da2-44ae-d232-e01201ae971c"
      },
      "execution_count": null,
      "outputs": [
        {
          "output_type": "execute_result",
          "data": {
            "text/plain": [
              "      Unnamed: 0                       Date             User  \\\n",
              "14324      14324  2023-02-18 18:17:55+00:00       MotheVarun   \n",
              "43454      43453  2022-10-30 05:21:53+00:00          BhaiTej   \n",
              "29499      29498  2022-12-15 11:16:01+00:00   ModernWorldCen   \n",
              "42682      42681  2022-11-01 07:49:33+00:00        hlast2704   \n",
              "42327      42326  2022-11-02 15:32:45+00:00  aniketn62648454   \n",
              "\n",
              "                                                   Tweet  Likes  Retweets  \n",
              "14324  @FemboyBebop @ViceApologist there is no indian...    0.0       0.0  \n",
              "43454  @kanhaiyakumar The one who has no commonsense ...    0.0       0.0  \n",
              "29499  #PoliticsToday #politics #elections Past prese...    0.0       0.0  \n",
              "42682  @MumbaichaDon U and anshul saxena are so intel...    1.0       0.0  \n",
              "42327  @chandnii__ Meaning of Secularism :- separatio...    0.0       0.0  "
            ],
            "text/html": [
              "\n",
              "  <div id=\"df-670714d4-753d-4013-a4c6-3ffc93bc11c1\" class=\"colab-df-container\">\n",
              "    <div>\n",
              "<style scoped>\n",
              "    .dataframe tbody tr th:only-of-type {\n",
              "        vertical-align: middle;\n",
              "    }\n",
              "\n",
              "    .dataframe tbody tr th {\n",
              "        vertical-align: top;\n",
              "    }\n",
              "\n",
              "    .dataframe thead th {\n",
              "        text-align: right;\n",
              "    }\n",
              "</style>\n",
              "<table border=\"1\" class=\"dataframe\">\n",
              "  <thead>\n",
              "    <tr style=\"text-align: right;\">\n",
              "      <th></th>\n",
              "      <th>Unnamed: 0</th>\n",
              "      <th>Date</th>\n",
              "      <th>User</th>\n",
              "      <th>Tweet</th>\n",
              "      <th>Likes</th>\n",
              "      <th>Retweets</th>\n",
              "    </tr>\n",
              "  </thead>\n",
              "  <tbody>\n",
              "    <tr>\n",
              "      <th>14324</th>\n",
              "      <td>14324</td>\n",
              "      <td>2023-02-18 18:17:55+00:00</td>\n",
              "      <td>MotheVarun</td>\n",
              "      <td>@FemboyBebop @ViceApologist there is no indian...</td>\n",
              "      <td>0.0</td>\n",
              "      <td>0.0</td>\n",
              "    </tr>\n",
              "    <tr>\n",
              "      <th>43454</th>\n",
              "      <td>43453</td>\n",
              "      <td>2022-10-30 05:21:53+00:00</td>\n",
              "      <td>BhaiTej</td>\n",
              "      <td>@kanhaiyakumar The one who has no commonsense ...</td>\n",
              "      <td>0.0</td>\n",
              "      <td>0.0</td>\n",
              "    </tr>\n",
              "    <tr>\n",
              "      <th>29499</th>\n",
              "      <td>29498</td>\n",
              "      <td>2022-12-15 11:16:01+00:00</td>\n",
              "      <td>ModernWorldCen</td>\n",
              "      <td>#PoliticsToday #politics #elections Past prese...</td>\n",
              "      <td>0.0</td>\n",
              "      <td>0.0</td>\n",
              "    </tr>\n",
              "    <tr>\n",
              "      <th>42682</th>\n",
              "      <td>42681</td>\n",
              "      <td>2022-11-01 07:49:33+00:00</td>\n",
              "      <td>hlast2704</td>\n",
              "      <td>@MumbaichaDon U and anshul saxena are so intel...</td>\n",
              "      <td>1.0</td>\n",
              "      <td>0.0</td>\n",
              "    </tr>\n",
              "    <tr>\n",
              "      <th>42327</th>\n",
              "      <td>42326</td>\n",
              "      <td>2022-11-02 15:32:45+00:00</td>\n",
              "      <td>aniketn62648454</td>\n",
              "      <td>@chandnii__ Meaning of Secularism :- separatio...</td>\n",
              "      <td>0.0</td>\n",
              "      <td>0.0</td>\n",
              "    </tr>\n",
              "  </tbody>\n",
              "</table>\n",
              "</div>\n",
              "    <div class=\"colab-df-buttons\">\n",
              "\n",
              "  <div class=\"colab-df-container\">\n",
              "    <button class=\"colab-df-convert\" onclick=\"convertToInteractive('df-670714d4-753d-4013-a4c6-3ffc93bc11c1')\"\n",
              "            title=\"Convert this dataframe to an interactive table.\"\n",
              "            style=\"display:none;\">\n",
              "\n",
              "  <svg xmlns=\"http://www.w3.org/2000/svg\" height=\"24px\" viewBox=\"0 -960 960 960\">\n",
              "    <path d=\"M120-120v-720h720v720H120Zm60-500h600v-160H180v160Zm220 220h160v-160H400v160Zm0 220h160v-160H400v160ZM180-400h160v-160H180v160Zm440 0h160v-160H620v160ZM180-180h160v-160H180v160Zm440 0h160v-160H620v160Z\"/>\n",
              "  </svg>\n",
              "    </button>\n",
              "\n",
              "  <style>\n",
              "    .colab-df-container {\n",
              "      display:flex;\n",
              "      gap: 12px;\n",
              "    }\n",
              "\n",
              "    .colab-df-convert {\n",
              "      background-color: #E8F0FE;\n",
              "      border: none;\n",
              "      border-radius: 50%;\n",
              "      cursor: pointer;\n",
              "      display: none;\n",
              "      fill: #1967D2;\n",
              "      height: 32px;\n",
              "      padding: 0 0 0 0;\n",
              "      width: 32px;\n",
              "    }\n",
              "\n",
              "    .colab-df-convert:hover {\n",
              "      background-color: #E2EBFA;\n",
              "      box-shadow: 0px 1px 2px rgba(60, 64, 67, 0.3), 0px 1px 3px 1px rgba(60, 64, 67, 0.15);\n",
              "      fill: #174EA6;\n",
              "    }\n",
              "\n",
              "    .colab-df-buttons div {\n",
              "      margin-bottom: 4px;\n",
              "    }\n",
              "\n",
              "    [theme=dark] .colab-df-convert {\n",
              "      background-color: #3B4455;\n",
              "      fill: #D2E3FC;\n",
              "    }\n",
              "\n",
              "    [theme=dark] .colab-df-convert:hover {\n",
              "      background-color: #434B5C;\n",
              "      box-shadow: 0px 1px 3px 1px rgba(0, 0, 0, 0.15);\n",
              "      filter: drop-shadow(0px 1px 2px rgba(0, 0, 0, 0.3));\n",
              "      fill: #FFFFFF;\n",
              "    }\n",
              "  </style>\n",
              "\n",
              "    <script>\n",
              "      const buttonEl =\n",
              "        document.querySelector('#df-670714d4-753d-4013-a4c6-3ffc93bc11c1 button.colab-df-convert');\n",
              "      buttonEl.style.display =\n",
              "        google.colab.kernel.accessAllowed ? 'block' : 'none';\n",
              "\n",
              "      async function convertToInteractive(key) {\n",
              "        const element = document.querySelector('#df-670714d4-753d-4013-a4c6-3ffc93bc11c1');\n",
              "        const dataTable =\n",
              "          await google.colab.kernel.invokeFunction('convertToInteractive',\n",
              "                                                    [key], {});\n",
              "        if (!dataTable) return;\n",
              "\n",
              "        const docLinkHtml = 'Like what you see? Visit the ' +\n",
              "          '<a target=\"_blank\" href=https://colab.research.google.com/notebooks/data_table.ipynb>data table notebook</a>'\n",
              "          + ' to learn more about interactive tables.';\n",
              "        element.innerHTML = '';\n",
              "        dataTable['output_type'] = 'display_data';\n",
              "        await google.colab.output.renderOutput(dataTable, element);\n",
              "        const docLink = document.createElement('div');\n",
              "        docLink.innerHTML = docLinkHtml;\n",
              "        element.appendChild(docLink);\n",
              "      }\n",
              "    </script>\n",
              "  </div>\n",
              "\n",
              "\n",
              "<div id=\"df-504bb8e3-8153-4dd7-b7b0-59dafce2258d\">\n",
              "  <button class=\"colab-df-quickchart\" onclick=\"quickchart('df-504bb8e3-8153-4dd7-b7b0-59dafce2258d')\"\n",
              "            title=\"Suggest charts\"\n",
              "            style=\"display:none;\">\n",
              "\n",
              "<svg xmlns=\"http://www.w3.org/2000/svg\" height=\"24px\"viewBox=\"0 0 24 24\"\n",
              "     width=\"24px\">\n",
              "    <g>\n",
              "        <path d=\"M19 3H5c-1.1 0-2 .9-2 2v14c0 1.1.9 2 2 2h14c1.1 0 2-.9 2-2V5c0-1.1-.9-2-2-2zM9 17H7v-7h2v7zm4 0h-2V7h2v10zm4 0h-2v-4h2v4z\"/>\n",
              "    </g>\n",
              "</svg>\n",
              "  </button>\n",
              "\n",
              "<style>\n",
              "  .colab-df-quickchart {\n",
              "      --bg-color: #E8F0FE;\n",
              "      --fill-color: #1967D2;\n",
              "      --hover-bg-color: #E2EBFA;\n",
              "      --hover-fill-color: #174EA6;\n",
              "      --disabled-fill-color: #AAA;\n",
              "      --disabled-bg-color: #DDD;\n",
              "  }\n",
              "\n",
              "  [theme=dark] .colab-df-quickchart {\n",
              "      --bg-color: #3B4455;\n",
              "      --fill-color: #D2E3FC;\n",
              "      --hover-bg-color: #434B5C;\n",
              "      --hover-fill-color: #FFFFFF;\n",
              "      --disabled-bg-color: #3B4455;\n",
              "      --disabled-fill-color: #666;\n",
              "  }\n",
              "\n",
              "  .colab-df-quickchart {\n",
              "    background-color: var(--bg-color);\n",
              "    border: none;\n",
              "    border-radius: 50%;\n",
              "    cursor: pointer;\n",
              "    display: none;\n",
              "    fill: var(--fill-color);\n",
              "    height: 32px;\n",
              "    padding: 0;\n",
              "    width: 32px;\n",
              "  }\n",
              "\n",
              "  .colab-df-quickchart:hover {\n",
              "    background-color: var(--hover-bg-color);\n",
              "    box-shadow: 0 1px 2px rgba(60, 64, 67, 0.3), 0 1px 3px 1px rgba(60, 64, 67, 0.15);\n",
              "    fill: var(--button-hover-fill-color);\n",
              "  }\n",
              "\n",
              "  .colab-df-quickchart-complete:disabled,\n",
              "  .colab-df-quickchart-complete:disabled:hover {\n",
              "    background-color: var(--disabled-bg-color);\n",
              "    fill: var(--disabled-fill-color);\n",
              "    box-shadow: none;\n",
              "  }\n",
              "\n",
              "  .colab-df-spinner {\n",
              "    border: 2px solid var(--fill-color);\n",
              "    border-color: transparent;\n",
              "    border-bottom-color: var(--fill-color);\n",
              "    animation:\n",
              "      spin 1s steps(1) infinite;\n",
              "  }\n",
              "\n",
              "  @keyframes spin {\n",
              "    0% {\n",
              "      border-color: transparent;\n",
              "      border-bottom-color: var(--fill-color);\n",
              "      border-left-color: var(--fill-color);\n",
              "    }\n",
              "    20% {\n",
              "      border-color: transparent;\n",
              "      border-left-color: var(--fill-color);\n",
              "      border-top-color: var(--fill-color);\n",
              "    }\n",
              "    30% {\n",
              "      border-color: transparent;\n",
              "      border-left-color: var(--fill-color);\n",
              "      border-top-color: var(--fill-color);\n",
              "      border-right-color: var(--fill-color);\n",
              "    }\n",
              "    40% {\n",
              "      border-color: transparent;\n",
              "      border-right-color: var(--fill-color);\n",
              "      border-top-color: var(--fill-color);\n",
              "    }\n",
              "    60% {\n",
              "      border-color: transparent;\n",
              "      border-right-color: var(--fill-color);\n",
              "    }\n",
              "    80% {\n",
              "      border-color: transparent;\n",
              "      border-right-color: var(--fill-color);\n",
              "      border-bottom-color: var(--fill-color);\n",
              "    }\n",
              "    90% {\n",
              "      border-color: transparent;\n",
              "      border-bottom-color: var(--fill-color);\n",
              "    }\n",
              "  }\n",
              "</style>\n",
              "\n",
              "  <script>\n",
              "    async function quickchart(key) {\n",
              "      const quickchartButtonEl =\n",
              "        document.querySelector('#' + key + ' button');\n",
              "      quickchartButtonEl.disabled = true;  // To prevent multiple clicks.\n",
              "      quickchartButtonEl.classList.add('colab-df-spinner');\n",
              "      try {\n",
              "        const charts = await google.colab.kernel.invokeFunction(\n",
              "            'suggestCharts', [key], {});\n",
              "      } catch (error) {\n",
              "        console.error('Error during call to suggestCharts:', error);\n",
              "      }\n",
              "      quickchartButtonEl.classList.remove('colab-df-spinner');\n",
              "      quickchartButtonEl.classList.add('colab-df-quickchart-complete');\n",
              "    }\n",
              "    (() => {\n",
              "      let quickchartButtonEl =\n",
              "        document.querySelector('#df-504bb8e3-8153-4dd7-b7b0-59dafce2258d button');\n",
              "      quickchartButtonEl.style.display =\n",
              "        google.colab.kernel.accessAllowed ? 'block' : 'none';\n",
              "    })();\n",
              "  </script>\n",
              "</div>\n",
              "\n",
              "    </div>\n",
              "  </div>\n"
            ],
            "application/vnd.google.colaboratory.intrinsic+json": {
              "type": "dataframe",
              "repr_error": "0"
            }
          },
          "metadata": {},
          "execution_count": 12
        }
      ]
    },
    {
      "cell_type": "markdown",
      "source": [
        "<font color='red'>**Remember to add comments with hashtags (#) for the code above.**\n",
        "\n",
        "<font color='red'>**- What's the purpose running the above code**"
      ],
      "metadata": {
        "id": "KhvHz_x7cYZD"
      }
    },
    {
      "cell_type": "markdown",
      "source": [
        "##Count how much user tweets in 'sampled_df'"
      ],
      "metadata": {
        "id": "2PHXh1JT0459"
      }
    },
    {
      "cell_type": "code",
      "source": [
        "unique_users_count = sampled_df['User'].nunique()\n",
        "print(\"Number of unique users:\", unique_users_count)"
      ],
      "metadata": {
        "colab": {
          "base_uri": "https://localhost:8080/"
        },
        "id": "_82ZIKzp0d_F",
        "outputId": "ad01adf9-73ab-46cf-8b04-41f67d315e32"
      },
      "execution_count": null,
      "outputs": [
        {
          "output_type": "stream",
          "name": "stdout",
          "text": [
            "Number of unique users: 16166\n"
          ]
        }
      ]
    },
    {
      "cell_type": "markdown",
      "source": [
        "<font color='red'>**Remember to add comments with hashtags (#) for the code above.**\n",
        "\n",
        "<font color='red'>**- What's the purpose running the above code**"
      ],
      "metadata": {
        "id": "y7pUPIUscZFS"
      }
    },
    {
      "cell_type": "markdown",
      "source": [
        "##Interval the dates"
      ],
      "metadata": {
        "id": "E5jamyzAq6Zd"
      }
    },
    {
      "cell_type": "code",
      "source": [
        "sampled_df['Date'] = pd.date_range(start='2022-01-01',end='2023-12-31' ,periods=len(sampled_df))\n"
      ],
      "metadata": {
        "id": "Ch487nkotG7I"
      },
      "execution_count": null,
      "outputs": []
    },
    {
      "cell_type": "markdown",
      "source": [
        "<font color='red'>**Remember to add comments with hashtags (#) for the code above.**\n",
        "\n",
        "<font color='red'>**- What's the purpose running the above code**"
      ],
      "metadata": {
        "id": "omyVFAxhcaJk"
      }
    },
    {
      "cell_type": "code",
      "source": [
        "#Sort datetimes\n",
        "sampled_df = sampled_df.sort_values(by='Date')\n"
      ],
      "metadata": {
        "id": "RF3WsPW5td61"
      },
      "execution_count": null,
      "outputs": []
    },
    {
      "cell_type": "code",
      "source": [
        "sampled_df.head()"
      ],
      "metadata": {
        "colab": {
          "base_uri": "https://localhost:8080/",
          "height": 452
        },
        "id": "bB5gfH5Nx50C",
        "outputId": "bbc3b456-cbeb-4cea-c37e-f080a041094f"
      },
      "execution_count": null,
      "outputs": [
        {
          "output_type": "execute_result",
          "data": {
            "text/plain": [
              "      Unnamed: 0                          Date            User  \\\n",
              "33553      33552 2022-01-01 00:00:00.000000000        fekubawa   \n",
              "9427        9427 2022-01-01 00:52:29.437471873       IRASP_UWA   \n",
              "199          199 2022-01-01 01:44:58.874943747    WhybotherMeh   \n",
              "12447      12447 2022-01-01 02:37:28.312415620   albert_colaco   \n",
              "39489      39488 2022-01-01 03:29:57.749887494  adwitiya_singh   \n",
              "\n",
              "                                                   Tweet  Likes  Retweets  \n",
              "33553  @desimojito Yeah and since 2014 Modi has pulle...    1.0       0.0  \n",
              "9427   Felix Pal is a #qualitative #PoliticalScientis...    1.0       1.0  \n",
              "199    @ShefVaidya @RahulGandhi Never seen any other ...    0.0       0.0  \n",
              "12447  @amitmalviya Your leadership is lying every da...    0.0       0.0  \n",
              "39489  @Politics_2022_ @mayank_sxn That's the same th...    0.0       0.0  "
            ],
            "text/html": [
              "\n",
              "  <div id=\"df-1ef4e77c-7421-4a0c-a098-5c21a047f316\" class=\"colab-df-container\">\n",
              "    <div>\n",
              "<style scoped>\n",
              "    .dataframe tbody tr th:only-of-type {\n",
              "        vertical-align: middle;\n",
              "    }\n",
              "\n",
              "    .dataframe tbody tr th {\n",
              "        vertical-align: top;\n",
              "    }\n",
              "\n",
              "    .dataframe thead th {\n",
              "        text-align: right;\n",
              "    }\n",
              "</style>\n",
              "<table border=\"1\" class=\"dataframe\">\n",
              "  <thead>\n",
              "    <tr style=\"text-align: right;\">\n",
              "      <th></th>\n",
              "      <th>Unnamed: 0</th>\n",
              "      <th>Date</th>\n",
              "      <th>User</th>\n",
              "      <th>Tweet</th>\n",
              "      <th>Likes</th>\n",
              "      <th>Retweets</th>\n",
              "    </tr>\n",
              "  </thead>\n",
              "  <tbody>\n",
              "    <tr>\n",
              "      <th>33553</th>\n",
              "      <td>33552</td>\n",
              "      <td>2022-01-01 00:00:00.000000000</td>\n",
              "      <td>fekubawa</td>\n",
              "      <td>@desimojito Yeah and since 2014 Modi has pulle...</td>\n",
              "      <td>1.0</td>\n",
              "      <td>0.0</td>\n",
              "    </tr>\n",
              "    <tr>\n",
              "      <th>9427</th>\n",
              "      <td>9427</td>\n",
              "      <td>2022-01-01 00:52:29.437471873</td>\n",
              "      <td>IRASP_UWA</td>\n",
              "      <td>Felix Pal is a #qualitative #PoliticalScientis...</td>\n",
              "      <td>1.0</td>\n",
              "      <td>1.0</td>\n",
              "    </tr>\n",
              "    <tr>\n",
              "      <th>199</th>\n",
              "      <td>199</td>\n",
              "      <td>2022-01-01 01:44:58.874943747</td>\n",
              "      <td>WhybotherMeh</td>\n",
              "      <td>@ShefVaidya @RahulGandhi Never seen any other ...</td>\n",
              "      <td>0.0</td>\n",
              "      <td>0.0</td>\n",
              "    </tr>\n",
              "    <tr>\n",
              "      <th>12447</th>\n",
              "      <td>12447</td>\n",
              "      <td>2022-01-01 02:37:28.312415620</td>\n",
              "      <td>albert_colaco</td>\n",
              "      <td>@amitmalviya Your leadership is lying every da...</td>\n",
              "      <td>0.0</td>\n",
              "      <td>0.0</td>\n",
              "    </tr>\n",
              "    <tr>\n",
              "      <th>39489</th>\n",
              "      <td>39488</td>\n",
              "      <td>2022-01-01 03:29:57.749887494</td>\n",
              "      <td>adwitiya_singh</td>\n",
              "      <td>@Politics_2022_ @mayank_sxn That's the same th...</td>\n",
              "      <td>0.0</td>\n",
              "      <td>0.0</td>\n",
              "    </tr>\n",
              "  </tbody>\n",
              "</table>\n",
              "</div>\n",
              "    <div class=\"colab-df-buttons\">\n",
              "\n",
              "  <div class=\"colab-df-container\">\n",
              "    <button class=\"colab-df-convert\" onclick=\"convertToInteractive('df-1ef4e77c-7421-4a0c-a098-5c21a047f316')\"\n",
              "            title=\"Convert this dataframe to an interactive table.\"\n",
              "            style=\"display:none;\">\n",
              "\n",
              "  <svg xmlns=\"http://www.w3.org/2000/svg\" height=\"24px\" viewBox=\"0 -960 960 960\">\n",
              "    <path d=\"M120-120v-720h720v720H120Zm60-500h600v-160H180v160Zm220 220h160v-160H400v160Zm0 220h160v-160H400v160ZM180-400h160v-160H180v160Zm440 0h160v-160H620v160ZM180-180h160v-160H180v160Zm440 0h160v-160H620v160Z\"/>\n",
              "  </svg>\n",
              "    </button>\n",
              "\n",
              "  <style>\n",
              "    .colab-df-container {\n",
              "      display:flex;\n",
              "      gap: 12px;\n",
              "    }\n",
              "\n",
              "    .colab-df-convert {\n",
              "      background-color: #E8F0FE;\n",
              "      border: none;\n",
              "      border-radius: 50%;\n",
              "      cursor: pointer;\n",
              "      display: none;\n",
              "      fill: #1967D2;\n",
              "      height: 32px;\n",
              "      padding: 0 0 0 0;\n",
              "      width: 32px;\n",
              "    }\n",
              "\n",
              "    .colab-df-convert:hover {\n",
              "      background-color: #E2EBFA;\n",
              "      box-shadow: 0px 1px 2px rgba(60, 64, 67, 0.3), 0px 1px 3px 1px rgba(60, 64, 67, 0.15);\n",
              "      fill: #174EA6;\n",
              "    }\n",
              "\n",
              "    .colab-df-buttons div {\n",
              "      margin-bottom: 4px;\n",
              "    }\n",
              "\n",
              "    [theme=dark] .colab-df-convert {\n",
              "      background-color: #3B4455;\n",
              "      fill: #D2E3FC;\n",
              "    }\n",
              "\n",
              "    [theme=dark] .colab-df-convert:hover {\n",
              "      background-color: #434B5C;\n",
              "      box-shadow: 0px 1px 3px 1px rgba(0, 0, 0, 0.15);\n",
              "      filter: drop-shadow(0px 1px 2px rgba(0, 0, 0, 0.3));\n",
              "      fill: #FFFFFF;\n",
              "    }\n",
              "  </style>\n",
              "\n",
              "    <script>\n",
              "      const buttonEl =\n",
              "        document.querySelector('#df-1ef4e77c-7421-4a0c-a098-5c21a047f316 button.colab-df-convert');\n",
              "      buttonEl.style.display =\n",
              "        google.colab.kernel.accessAllowed ? 'block' : 'none';\n",
              "\n",
              "      async function convertToInteractive(key) {\n",
              "        const element = document.querySelector('#df-1ef4e77c-7421-4a0c-a098-5c21a047f316');\n",
              "        const dataTable =\n",
              "          await google.colab.kernel.invokeFunction('convertToInteractive',\n",
              "                                                    [key], {});\n",
              "        if (!dataTable) return;\n",
              "\n",
              "        const docLinkHtml = 'Like what you see? Visit the ' +\n",
              "          '<a target=\"_blank\" href=https://colab.research.google.com/notebooks/data_table.ipynb>data table notebook</a>'\n",
              "          + ' to learn more about interactive tables.';\n",
              "        element.innerHTML = '';\n",
              "        dataTable['output_type'] = 'display_data';\n",
              "        await google.colab.output.renderOutput(dataTable, element);\n",
              "        const docLink = document.createElement('div');\n",
              "        docLink.innerHTML = docLinkHtml;\n",
              "        element.appendChild(docLink);\n",
              "      }\n",
              "    </script>\n",
              "  </div>\n",
              "\n",
              "\n",
              "<div id=\"df-52154653-4199-49c1-8de7-f0e03d966e63\">\n",
              "  <button class=\"colab-df-quickchart\" onclick=\"quickchart('df-52154653-4199-49c1-8de7-f0e03d966e63')\"\n",
              "            title=\"Suggest charts\"\n",
              "            style=\"display:none;\">\n",
              "\n",
              "<svg xmlns=\"http://www.w3.org/2000/svg\" height=\"24px\"viewBox=\"0 0 24 24\"\n",
              "     width=\"24px\">\n",
              "    <g>\n",
              "        <path d=\"M19 3H5c-1.1 0-2 .9-2 2v14c0 1.1.9 2 2 2h14c1.1 0 2-.9 2-2V5c0-1.1-.9-2-2-2zM9 17H7v-7h2v7zm4 0h-2V7h2v10zm4 0h-2v-4h2v4z\"/>\n",
              "    </g>\n",
              "</svg>\n",
              "  </button>\n",
              "\n",
              "<style>\n",
              "  .colab-df-quickchart {\n",
              "      --bg-color: #E8F0FE;\n",
              "      --fill-color: #1967D2;\n",
              "      --hover-bg-color: #E2EBFA;\n",
              "      --hover-fill-color: #174EA6;\n",
              "      --disabled-fill-color: #AAA;\n",
              "      --disabled-bg-color: #DDD;\n",
              "  }\n",
              "\n",
              "  [theme=dark] .colab-df-quickchart {\n",
              "      --bg-color: #3B4455;\n",
              "      --fill-color: #D2E3FC;\n",
              "      --hover-bg-color: #434B5C;\n",
              "      --hover-fill-color: #FFFFFF;\n",
              "      --disabled-bg-color: #3B4455;\n",
              "      --disabled-fill-color: #666;\n",
              "  }\n",
              "\n",
              "  .colab-df-quickchart {\n",
              "    background-color: var(--bg-color);\n",
              "    border: none;\n",
              "    border-radius: 50%;\n",
              "    cursor: pointer;\n",
              "    display: none;\n",
              "    fill: var(--fill-color);\n",
              "    height: 32px;\n",
              "    padding: 0;\n",
              "    width: 32px;\n",
              "  }\n",
              "\n",
              "  .colab-df-quickchart:hover {\n",
              "    background-color: var(--hover-bg-color);\n",
              "    box-shadow: 0 1px 2px rgba(60, 64, 67, 0.3), 0 1px 3px 1px rgba(60, 64, 67, 0.15);\n",
              "    fill: var(--button-hover-fill-color);\n",
              "  }\n",
              "\n",
              "  .colab-df-quickchart-complete:disabled,\n",
              "  .colab-df-quickchart-complete:disabled:hover {\n",
              "    background-color: var(--disabled-bg-color);\n",
              "    fill: var(--disabled-fill-color);\n",
              "    box-shadow: none;\n",
              "  }\n",
              "\n",
              "  .colab-df-spinner {\n",
              "    border: 2px solid var(--fill-color);\n",
              "    border-color: transparent;\n",
              "    border-bottom-color: var(--fill-color);\n",
              "    animation:\n",
              "      spin 1s steps(1) infinite;\n",
              "  }\n",
              "\n",
              "  @keyframes spin {\n",
              "    0% {\n",
              "      border-color: transparent;\n",
              "      border-bottom-color: var(--fill-color);\n",
              "      border-left-color: var(--fill-color);\n",
              "    }\n",
              "    20% {\n",
              "      border-color: transparent;\n",
              "      border-left-color: var(--fill-color);\n",
              "      border-top-color: var(--fill-color);\n",
              "    }\n",
              "    30% {\n",
              "      border-color: transparent;\n",
              "      border-left-color: var(--fill-color);\n",
              "      border-top-color: var(--fill-color);\n",
              "      border-right-color: var(--fill-color);\n",
              "    }\n",
              "    40% {\n",
              "      border-color: transparent;\n",
              "      border-right-color: var(--fill-color);\n",
              "      border-top-color: var(--fill-color);\n",
              "    }\n",
              "    60% {\n",
              "      border-color: transparent;\n",
              "      border-right-color: var(--fill-color);\n",
              "    }\n",
              "    80% {\n",
              "      border-color: transparent;\n",
              "      border-right-color: var(--fill-color);\n",
              "      border-bottom-color: var(--fill-color);\n",
              "    }\n",
              "    90% {\n",
              "      border-color: transparent;\n",
              "      border-bottom-color: var(--fill-color);\n",
              "    }\n",
              "  }\n",
              "</style>\n",
              "\n",
              "  <script>\n",
              "    async function quickchart(key) {\n",
              "      const quickchartButtonEl =\n",
              "        document.querySelector('#' + key + ' button');\n",
              "      quickchartButtonEl.disabled = true;  // To prevent multiple clicks.\n",
              "      quickchartButtonEl.classList.add('colab-df-spinner');\n",
              "      try {\n",
              "        const charts = await google.colab.kernel.invokeFunction(\n",
              "            'suggestCharts', [key], {});\n",
              "      } catch (error) {\n",
              "        console.error('Error during call to suggestCharts:', error);\n",
              "      }\n",
              "      quickchartButtonEl.classList.remove('colab-df-spinner');\n",
              "      quickchartButtonEl.classList.add('colab-df-quickchart-complete');\n",
              "    }\n",
              "    (() => {\n",
              "      let quickchartButtonEl =\n",
              "        document.querySelector('#df-52154653-4199-49c1-8de7-f0e03d966e63 button');\n",
              "      quickchartButtonEl.style.display =\n",
              "        google.colab.kernel.accessAllowed ? 'block' : 'none';\n",
              "    })();\n",
              "  </script>\n",
              "</div>\n",
              "\n",
              "    </div>\n",
              "  </div>\n"
            ],
            "application/vnd.google.colaboratory.intrinsic+json": {
              "type": "dataframe",
              "variable_name": "sampled_df",
              "summary": "{\n  \"name\": \"sampled_df\",\n  \"rows\": 20000,\n  \"fields\": [\n    {\n      \"column\": \"Unnamed: 0\",\n      \"properties\": {\n        \"dtype\": \"string\",\n        \"num_unique_values\": 20000,\n        \"samples\": [\n          \"26890\",\n          \"25023\",\n          \"11666\"\n        ],\n        \"semantic_type\": \"\",\n        \"description\": \"\"\n      }\n    },\n    {\n      \"column\": \"Date\",\n      \"properties\": {\n        \"dtype\": \"date\",\n        \"min\": \"2022-01-01 00:00:00\",\n        \"max\": \"2023-12-31 00:00:00\",\n        \"num_unique_values\": 20000,\n        \"samples\": [\n          \"2023-01-24 05:05:09.075453772\",\n          \"2022-03-16 09:33:21.880094005\",\n          \"2022-11-12 23:08:44.006200312\"\n        ],\n        \"semantic_type\": \"\",\n        \"description\": \"\"\n      }\n    },\n    {\n      \"column\": \"User\",\n      \"properties\": {\n        \"dtype\": \"string\",\n        \"num_unique_values\": 16166,\n        \"samples\": [\n          \"subhajit_n\",\n          \"EnkayKotiyath\",\n          \"aditya_tweets\"\n        ],\n        \"semantic_type\": \"\",\n        \"description\": \"\"\n      }\n    },\n    {\n      \"column\": \"Tweet\",\n      \"properties\": {\n        \"dtype\": \"string\",\n        \"num_unique_values\": 19896,\n        \"samples\": [\n          \"Naveen's 24 in Odisha and its relevance in Indian Politics.\\n@Siba_TNIE https://t.co/dHlp91MUEA\",\n          \"@INCIndia Unfortunetly your doors are locked in indian politics for ever....and nothing can change that...\",\n          \"British politics is a old posh white guy from the Conservative party named Littersnatch-Crabbington and a young Indian guy from Labour arguing endlessly forever despite the only clear policy difference between them being whether the middle class should play 50% or 51% income tax\"\n        ],\n        \"semantic_type\": \"\",\n        \"description\": \"\"\n      }\n    },\n    {\n      \"column\": \"Likes\",\n      \"properties\": {\n        \"dtype\": \"number\",\n        \"std\": 272.83793225284586,\n        \"min\": 0.0,\n        \"max\": 20716.0,\n        \"num_unique_values\": 360,\n        \"samples\": [\n          916.0,\n          21.0,\n          135.0\n        ],\n        \"semantic_type\": \"\",\n        \"description\": \"\"\n      }\n    },\n    {\n      \"column\": \"Retweets\",\n      \"properties\": {\n        \"dtype\": \"number\",\n        \"std\": 63.153233186490404,\n        \"min\": 0.0,\n        \"max\": 6551.0,\n        \"num_unique_values\": 190,\n        \"samples\": [\n          634.0,\n          166.0,\n          125.0\n        ],\n        \"semantic_type\": \"\",\n        \"description\": \"\"\n      }\n    }\n  ]\n}"
            }
          },
          "metadata": {},
          "execution_count": 16
        }
      ]
    },
    {
      "cell_type": "markdown",
      "source": [
        "<font color='red'>**Remember to add comments with hashtags (#) for the code above.**\n",
        "\n",
        "<font color='red'>**- What's the purpose running the above code**"
      ],
      "metadata": {
        "id": "eBNCWOnCcb3b"
      }
    },
    {
      "cell_type": "code",
      "source": [
        "sampled_df.tail()"
      ],
      "metadata": {
        "colab": {
          "base_uri": "https://localhost:8080/",
          "height": 504
        },
        "id": "Ct75Z89cyB3v",
        "outputId": "9fa2887b-a5f2-4301-be8e-d2ba830115d1"
      },
      "execution_count": null,
      "outputs": [
        {
          "output_type": "execute_result",
          "data": {
            "text/plain": [
              "      Unnamed: 0                          Date             User  \\\n",
              "14324      14324 2023-12-30 20:30:02.250112504       MotheVarun   \n",
              "43454      43453 2023-12-30 21:22:31.687584384          BhaiTej   \n",
              "29499      29498 2023-12-30 22:15:01.125056256   ModernWorldCen   \n",
              "42682      42681 2023-12-30 23:07:30.562528128        hlast2704   \n",
              "42327      42326 2023-12-31 00:00:00.000000000  aniketn62648454   \n",
              "\n",
              "                                                   Tweet  Likes  Retweets  \n",
              "14324  @FemboyBebop @ViceApologist there is no indian...    0.0       0.0  \n",
              "43454  @kanhaiyakumar The one who has no commonsense ...    0.0       0.0  \n",
              "29499  #PoliticsToday #politics #elections Past prese...    0.0       0.0  \n",
              "42682  @MumbaichaDon U and anshul saxena are so intel...    1.0       0.0  \n",
              "42327  @chandnii__ Meaning of Secularism :- separatio...    0.0       0.0  "
            ],
            "text/html": [
              "\n",
              "  <div id=\"df-d6a409d9-7dd8-4e50-a74e-ae1656f9d99a\" class=\"colab-df-container\">\n",
              "    <div>\n",
              "<style scoped>\n",
              "    .dataframe tbody tr th:only-of-type {\n",
              "        vertical-align: middle;\n",
              "    }\n",
              "\n",
              "    .dataframe tbody tr th {\n",
              "        vertical-align: top;\n",
              "    }\n",
              "\n",
              "    .dataframe thead th {\n",
              "        text-align: right;\n",
              "    }\n",
              "</style>\n",
              "<table border=\"1\" class=\"dataframe\">\n",
              "  <thead>\n",
              "    <tr style=\"text-align: right;\">\n",
              "      <th></th>\n",
              "      <th>Unnamed: 0</th>\n",
              "      <th>Date</th>\n",
              "      <th>User</th>\n",
              "      <th>Tweet</th>\n",
              "      <th>Likes</th>\n",
              "      <th>Retweets</th>\n",
              "    </tr>\n",
              "  </thead>\n",
              "  <tbody>\n",
              "    <tr>\n",
              "      <th>14324</th>\n",
              "      <td>14324</td>\n",
              "      <td>2023-12-30 20:30:02.250112504</td>\n",
              "      <td>MotheVarun</td>\n",
              "      <td>@FemboyBebop @ViceApologist there is no indian...</td>\n",
              "      <td>0.0</td>\n",
              "      <td>0.0</td>\n",
              "    </tr>\n",
              "    <tr>\n",
              "      <th>43454</th>\n",
              "      <td>43453</td>\n",
              "      <td>2023-12-30 21:22:31.687584384</td>\n",
              "      <td>BhaiTej</td>\n",
              "      <td>@kanhaiyakumar The one who has no commonsense ...</td>\n",
              "      <td>0.0</td>\n",
              "      <td>0.0</td>\n",
              "    </tr>\n",
              "    <tr>\n",
              "      <th>29499</th>\n",
              "      <td>29498</td>\n",
              "      <td>2023-12-30 22:15:01.125056256</td>\n",
              "      <td>ModernWorldCen</td>\n",
              "      <td>#PoliticsToday #politics #elections Past prese...</td>\n",
              "      <td>0.0</td>\n",
              "      <td>0.0</td>\n",
              "    </tr>\n",
              "    <tr>\n",
              "      <th>42682</th>\n",
              "      <td>42681</td>\n",
              "      <td>2023-12-30 23:07:30.562528128</td>\n",
              "      <td>hlast2704</td>\n",
              "      <td>@MumbaichaDon U and anshul saxena are so intel...</td>\n",
              "      <td>1.0</td>\n",
              "      <td>0.0</td>\n",
              "    </tr>\n",
              "    <tr>\n",
              "      <th>42327</th>\n",
              "      <td>42326</td>\n",
              "      <td>2023-12-31 00:00:00.000000000</td>\n",
              "      <td>aniketn62648454</td>\n",
              "      <td>@chandnii__ Meaning of Secularism :- separatio...</td>\n",
              "      <td>0.0</td>\n",
              "      <td>0.0</td>\n",
              "    </tr>\n",
              "  </tbody>\n",
              "</table>\n",
              "</div>\n",
              "    <div class=\"colab-df-buttons\">\n",
              "\n",
              "  <div class=\"colab-df-container\">\n",
              "    <button class=\"colab-df-convert\" onclick=\"convertToInteractive('df-d6a409d9-7dd8-4e50-a74e-ae1656f9d99a')\"\n",
              "            title=\"Convert this dataframe to an interactive table.\"\n",
              "            style=\"display:none;\">\n",
              "\n",
              "  <svg xmlns=\"http://www.w3.org/2000/svg\" height=\"24px\" viewBox=\"0 -960 960 960\">\n",
              "    <path d=\"M120-120v-720h720v720H120Zm60-500h600v-160H180v160Zm220 220h160v-160H400v160Zm0 220h160v-160H400v160ZM180-400h160v-160H180v160Zm440 0h160v-160H620v160ZM180-180h160v-160H180v160Zm440 0h160v-160H620v160Z\"/>\n",
              "  </svg>\n",
              "    </button>\n",
              "\n",
              "  <style>\n",
              "    .colab-df-container {\n",
              "      display:flex;\n",
              "      gap: 12px;\n",
              "    }\n",
              "\n",
              "    .colab-df-convert {\n",
              "      background-color: #E8F0FE;\n",
              "      border: none;\n",
              "      border-radius: 50%;\n",
              "      cursor: pointer;\n",
              "      display: none;\n",
              "      fill: #1967D2;\n",
              "      height: 32px;\n",
              "      padding: 0 0 0 0;\n",
              "      width: 32px;\n",
              "    }\n",
              "\n",
              "    .colab-df-convert:hover {\n",
              "      background-color: #E2EBFA;\n",
              "      box-shadow: 0px 1px 2px rgba(60, 64, 67, 0.3), 0px 1px 3px 1px rgba(60, 64, 67, 0.15);\n",
              "      fill: #174EA6;\n",
              "    }\n",
              "\n",
              "    .colab-df-buttons div {\n",
              "      margin-bottom: 4px;\n",
              "    }\n",
              "\n",
              "    [theme=dark] .colab-df-convert {\n",
              "      background-color: #3B4455;\n",
              "      fill: #D2E3FC;\n",
              "    }\n",
              "\n",
              "    [theme=dark] .colab-df-convert:hover {\n",
              "      background-color: #434B5C;\n",
              "      box-shadow: 0px 1px 3px 1px rgba(0, 0, 0, 0.15);\n",
              "      filter: drop-shadow(0px 1px 2px rgba(0, 0, 0, 0.3));\n",
              "      fill: #FFFFFF;\n",
              "    }\n",
              "  </style>\n",
              "\n",
              "    <script>\n",
              "      const buttonEl =\n",
              "        document.querySelector('#df-d6a409d9-7dd8-4e50-a74e-ae1656f9d99a button.colab-df-convert');\n",
              "      buttonEl.style.display =\n",
              "        google.colab.kernel.accessAllowed ? 'block' : 'none';\n",
              "\n",
              "      async function convertToInteractive(key) {\n",
              "        const element = document.querySelector('#df-d6a409d9-7dd8-4e50-a74e-ae1656f9d99a');\n",
              "        const dataTable =\n",
              "          await google.colab.kernel.invokeFunction('convertToInteractive',\n",
              "                                                    [key], {});\n",
              "        if (!dataTable) return;\n",
              "\n",
              "        const docLinkHtml = 'Like what you see? Visit the ' +\n",
              "          '<a target=\"_blank\" href=https://colab.research.google.com/notebooks/data_table.ipynb>data table notebook</a>'\n",
              "          + ' to learn more about interactive tables.';\n",
              "        element.innerHTML = '';\n",
              "        dataTable['output_type'] = 'display_data';\n",
              "        await google.colab.output.renderOutput(dataTable, element);\n",
              "        const docLink = document.createElement('div');\n",
              "        docLink.innerHTML = docLinkHtml;\n",
              "        element.appendChild(docLink);\n",
              "      }\n",
              "    </script>\n",
              "  </div>\n",
              "\n",
              "\n",
              "<div id=\"df-c40b3150-8c19-42d0-b41d-e9445b7a5394\">\n",
              "  <button class=\"colab-df-quickchart\" onclick=\"quickchart('df-c40b3150-8c19-42d0-b41d-e9445b7a5394')\"\n",
              "            title=\"Suggest charts\"\n",
              "            style=\"display:none;\">\n",
              "\n",
              "<svg xmlns=\"http://www.w3.org/2000/svg\" height=\"24px\"viewBox=\"0 0 24 24\"\n",
              "     width=\"24px\">\n",
              "    <g>\n",
              "        <path d=\"M19 3H5c-1.1 0-2 .9-2 2v14c0 1.1.9 2 2 2h14c1.1 0 2-.9 2-2V5c0-1.1-.9-2-2-2zM9 17H7v-7h2v7zm4 0h-2V7h2v10zm4 0h-2v-4h2v4z\"/>\n",
              "    </g>\n",
              "</svg>\n",
              "  </button>\n",
              "\n",
              "<style>\n",
              "  .colab-df-quickchart {\n",
              "      --bg-color: #E8F0FE;\n",
              "      --fill-color: #1967D2;\n",
              "      --hover-bg-color: #E2EBFA;\n",
              "      --hover-fill-color: #174EA6;\n",
              "      --disabled-fill-color: #AAA;\n",
              "      --disabled-bg-color: #DDD;\n",
              "  }\n",
              "\n",
              "  [theme=dark] .colab-df-quickchart {\n",
              "      --bg-color: #3B4455;\n",
              "      --fill-color: #D2E3FC;\n",
              "      --hover-bg-color: #434B5C;\n",
              "      --hover-fill-color: #FFFFFF;\n",
              "      --disabled-bg-color: #3B4455;\n",
              "      --disabled-fill-color: #666;\n",
              "  }\n",
              "\n",
              "  .colab-df-quickchart {\n",
              "    background-color: var(--bg-color);\n",
              "    border: none;\n",
              "    border-radius: 50%;\n",
              "    cursor: pointer;\n",
              "    display: none;\n",
              "    fill: var(--fill-color);\n",
              "    height: 32px;\n",
              "    padding: 0;\n",
              "    width: 32px;\n",
              "  }\n",
              "\n",
              "  .colab-df-quickchart:hover {\n",
              "    background-color: var(--hover-bg-color);\n",
              "    box-shadow: 0 1px 2px rgba(60, 64, 67, 0.3), 0 1px 3px 1px rgba(60, 64, 67, 0.15);\n",
              "    fill: var(--button-hover-fill-color);\n",
              "  }\n",
              "\n",
              "  .colab-df-quickchart-complete:disabled,\n",
              "  .colab-df-quickchart-complete:disabled:hover {\n",
              "    background-color: var(--disabled-bg-color);\n",
              "    fill: var(--disabled-fill-color);\n",
              "    box-shadow: none;\n",
              "  }\n",
              "\n",
              "  .colab-df-spinner {\n",
              "    border: 2px solid var(--fill-color);\n",
              "    border-color: transparent;\n",
              "    border-bottom-color: var(--fill-color);\n",
              "    animation:\n",
              "      spin 1s steps(1) infinite;\n",
              "  }\n",
              "\n",
              "  @keyframes spin {\n",
              "    0% {\n",
              "      border-color: transparent;\n",
              "      border-bottom-color: var(--fill-color);\n",
              "      border-left-color: var(--fill-color);\n",
              "    }\n",
              "    20% {\n",
              "      border-color: transparent;\n",
              "      border-left-color: var(--fill-color);\n",
              "      border-top-color: var(--fill-color);\n",
              "    }\n",
              "    30% {\n",
              "      border-color: transparent;\n",
              "      border-left-color: var(--fill-color);\n",
              "      border-top-color: var(--fill-color);\n",
              "      border-right-color: var(--fill-color);\n",
              "    }\n",
              "    40% {\n",
              "      border-color: transparent;\n",
              "      border-right-color: var(--fill-color);\n",
              "      border-top-color: var(--fill-color);\n",
              "    }\n",
              "    60% {\n",
              "      border-color: transparent;\n",
              "      border-right-color: var(--fill-color);\n",
              "    }\n",
              "    80% {\n",
              "      border-color: transparent;\n",
              "      border-right-color: var(--fill-color);\n",
              "      border-bottom-color: var(--fill-color);\n",
              "    }\n",
              "    90% {\n",
              "      border-color: transparent;\n",
              "      border-bottom-color: var(--fill-color);\n",
              "    }\n",
              "  }\n",
              "</style>\n",
              "\n",
              "  <script>\n",
              "    async function quickchart(key) {\n",
              "      const quickchartButtonEl =\n",
              "        document.querySelector('#' + key + ' button');\n",
              "      quickchartButtonEl.disabled = true;  // To prevent multiple clicks.\n",
              "      quickchartButtonEl.classList.add('colab-df-spinner');\n",
              "      try {\n",
              "        const charts = await google.colab.kernel.invokeFunction(\n",
              "            'suggestCharts', [key], {});\n",
              "      } catch (error) {\n",
              "        console.error('Error during call to suggestCharts:', error);\n",
              "      }\n",
              "      quickchartButtonEl.classList.remove('colab-df-spinner');\n",
              "      quickchartButtonEl.classList.add('colab-df-quickchart-complete');\n",
              "    }\n",
              "    (() => {\n",
              "      let quickchartButtonEl =\n",
              "        document.querySelector('#df-c40b3150-8c19-42d0-b41d-e9445b7a5394 button');\n",
              "      quickchartButtonEl.style.display =\n",
              "        google.colab.kernel.accessAllowed ? 'block' : 'none';\n",
              "    })();\n",
              "  </script>\n",
              "</div>\n",
              "\n",
              "    </div>\n",
              "  </div>\n"
            ],
            "application/vnd.google.colaboratory.intrinsic+json": {
              "type": "dataframe",
              "summary": "{\n  \"name\": \"sampled_df\",\n  \"rows\": 5,\n  \"fields\": [\n    {\n      \"column\": \"Unnamed: 0\",\n      \"properties\": {\n        \"dtype\": \"string\",\n        \"num_unique_values\": 5,\n        \"samples\": [\n          \"43453\",\n          \"42326\",\n          \"29498\"\n        ],\n        \"semantic_type\": \"\",\n        \"description\": \"\"\n      }\n    },\n    {\n      \"column\": \"Date\",\n      \"properties\": {\n        \"dtype\": \"date\",\n        \"min\": \"2023-12-30 20:30:02.250112504\",\n        \"max\": \"2023-12-31 00:00:00\",\n        \"num_unique_values\": 5,\n        \"samples\": [\n          \"2023-12-30 21:22:31.687584384\",\n          \"2023-12-31 00:00:00\",\n          \"2023-12-30 22:15:01.125056256\"\n        ],\n        \"semantic_type\": \"\",\n        \"description\": \"\"\n      }\n    },\n    {\n      \"column\": \"User\",\n      \"properties\": {\n        \"dtype\": \"string\",\n        \"num_unique_values\": 5,\n        \"samples\": [\n          \"BhaiTej\",\n          \"aniketn62648454\",\n          \"ModernWorldCen\"\n        ],\n        \"semantic_type\": \"\",\n        \"description\": \"\"\n      }\n    },\n    {\n      \"column\": \"Tweet\",\n      \"properties\": {\n        \"dtype\": \"string\",\n        \"num_unique_values\": 5,\n        \"samples\": [\n          \"@kanhaiyakumar The one who has no commonsense to understand Indian Politics how can he knows the way, shows the way and pave the way???\\n Poor Pappu!\",\n          \"@chandnii__ Meaning of Secularism :- separation of the state from religious institutions, therefore you need to stop calling yourself Indian And muslim together to get importance in politics.\",\n          \"#PoliticsToday #politics #elections Past present future merging site asks: The #impeachment attempt by #Indian Supreme #Court #judges against their Chief Justice blemishes #India's prestige abroad &amp; #judiciary's prestige at home. https://t.co/ZV58pHjbwN https://t.co/cpxUVwJGW0.\"\n        ],\n        \"semantic_type\": \"\",\n        \"description\": \"\"\n      }\n    },\n    {\n      \"column\": \"Likes\",\n      \"properties\": {\n        \"dtype\": \"number\",\n        \"std\": 0.447213595499958,\n        \"min\": 0.0,\n        \"max\": 1.0,\n        \"num_unique_values\": 2,\n        \"samples\": [\n          1.0,\n          0.0\n        ],\n        \"semantic_type\": \"\",\n        \"description\": \"\"\n      }\n    },\n    {\n      \"column\": \"Retweets\",\n      \"properties\": {\n        \"dtype\": \"number\",\n        \"std\": 0.0,\n        \"min\": 0.0,\n        \"max\": 0.0,\n        \"num_unique_values\": 1,\n        \"samples\": [\n          0.0\n        ],\n        \"semantic_type\": \"\",\n        \"description\": \"\"\n      }\n    }\n  ]\n}"
            }
          },
          "metadata": {},
          "execution_count": 17
        }
      ]
    },
    {
      "cell_type": "markdown",
      "source": [
        "<font color='red'>**Remember to add comments with hashtags (#) for the code above.**\n",
        "\n",
        "<font color='red'>**- What's the purpose running the above code**"
      ],
      "metadata": {
        "id": "aRj1pEYfcl2L"
      }
    },
    {
      "cell_type": "code",
      "source": [
        "#Calculate intervals and make bins\n",
        "sampled_df['Interval'] = sampled_df['Date'].diff()"
      ],
      "metadata": {
        "id": "9vpPoTrNto4I"
      },
      "execution_count": null,
      "outputs": []
    },
    {
      "cell_type": "code",
      "source": [
        "labels = ['1 day', '2 days', '3 days']"
      ],
      "metadata": {
        "id": "6vepjWIouBgB"
      },
      "execution_count": null,
      "outputs": []
    },
    {
      "cell_type": "markdown",
      "source": [
        "<font color='red'>**Remember to add comments with hashtags (#) for the code above.**\n",
        "\n",
        "<font color='red'>**- What's the purpose running the above code**"
      ],
      "metadata": {
        "id": "0eG8OSKrcnD0"
      }
    },
    {
      "cell_type": "code",
      "source": [
        "sampled_df['bin'] = pd.cut(sampled_df['Interval'], bins=[pd.Timedelta(days=0), pd.Timedelta(days=1), pd.Timedelta(days=2), pd.Timedelta(days=3)], labels=labels)"
      ],
      "metadata": {
        "id": "lw9wrjPMuH_z"
      },
      "execution_count": null,
      "outputs": []
    },
    {
      "cell_type": "markdown",
      "source": [
        "<font color='red'>**Remember to add comments with hashtags (#) for the code above.**\n",
        "\n",
        "<font color='red'>**- What's the purpose running the above code**"
      ],
      "metadata": {
        "id": "qu1NRBzGcoVE"
      }
    },
    {
      "cell_type": "code",
      "source": [
        "print(sampled_df)"
      ],
      "metadata": {
        "colab": {
          "base_uri": "https://localhost:8080/"
        },
        "id": "DC6hgOzhua_M",
        "outputId": "bfa178ef-f20d-4852-99ae-76828757397c"
      },
      "execution_count": null,
      "outputs": [
        {
          "output_type": "stream",
          "name": "stdout",
          "text": [
            "      Unnamed: 0                          Date             User  \\\n",
            "33553      33552 2022-01-01 00:00:00.000000000         fekubawa   \n",
            "9427        9427 2022-01-01 00:52:29.437471873        IRASP_UWA   \n",
            "199          199 2022-01-01 01:44:58.874943747     WhybotherMeh   \n",
            "12447      12447 2022-01-01 02:37:28.312415620    albert_colaco   \n",
            "39489      39488 2022-01-01 03:29:57.749887494   adwitiya_singh   \n",
            "...          ...                           ...              ...   \n",
            "14324      14324 2023-12-30 20:30:02.250112504       MotheVarun   \n",
            "43454      43453 2023-12-30 21:22:31.687584384          BhaiTej   \n",
            "29499      29498 2023-12-30 22:15:01.125056256   ModernWorldCen   \n",
            "42682      42681 2023-12-30 23:07:30.562528128        hlast2704   \n",
            "42327      42326 2023-12-31 00:00:00.000000000  aniketn62648454   \n",
            "\n",
            "                                                   Tweet  Likes  Retweets  \\\n",
            "33553  @desimojito Yeah and since 2014 Modi has pulle...    1.0       0.0   \n",
            "9427   Felix Pal is a #qualitative #PoliticalScientis...    1.0       1.0   \n",
            "199    @ShefVaidya @RahulGandhi Never seen any other ...    0.0       0.0   \n",
            "12447  @amitmalviya Your leadership is lying every da...    0.0       0.0   \n",
            "39489  @Politics_2022_ @mayank_sxn That's the same th...    0.0       0.0   \n",
            "...                                                  ...    ...       ...   \n",
            "14324  @FemboyBebop @ViceApologist there is no indian...    0.0       0.0   \n",
            "43454  @kanhaiyakumar The one who has no commonsense ...    0.0       0.0   \n",
            "29499  #PoliticsToday #politics #elections Past prese...    0.0       0.0   \n",
            "42682  @MumbaichaDon U and anshul saxena are so intel...    1.0       0.0   \n",
            "42327  @chandnii__ Meaning of Secularism :- separatio...    0.0       0.0   \n",
            "\n",
            "                       Interval    bin  \n",
            "33553                       NaT    NaN  \n",
            "9427  0 days 00:52:29.437471873  1 day  \n",
            "199   0 days 00:52:29.437471874  1 day  \n",
            "12447 0 days 00:52:29.437471873  1 day  \n",
            "39489 0 days 00:52:29.437471874  1 day  \n",
            "...                         ...    ...  \n",
            "14324 0 days 00:52:29.437471872  1 day  \n",
            "43454 0 days 00:52:29.437471880  1 day  \n",
            "29499 0 days 00:52:29.437471872  1 day  \n",
            "42682 0 days 00:52:29.437471872  1 day  \n",
            "42327 0 days 00:52:29.437471872  1 day  \n",
            "\n",
            "[20000 rows x 8 columns]\n"
          ]
        }
      ]
    },
    {
      "cell_type": "markdown",
      "source": [
        "<font color='red'>**Remember to add comments with hashtags (#) for the code above.**\n",
        "\n",
        "<font color='red'>**- What's the purpose running the above code**"
      ],
      "metadata": {
        "id": "c4Wspc0Zcpey"
      }
    },
    {
      "cell_type": "code",
      "source": [
        "#Sum of interval within each bin\n",
        "bin_sums = sampled_df.groupby('bin')['Interval'].sum().reset_index()\n",
        "print(bin_sums)"
      ],
      "metadata": {
        "colab": {
          "base_uri": "https://localhost:8080/"
        },
        "id": "DztjLBxLuvL7",
        "outputId": "c8eec9a1-da78-4e90-ccc1-5849d93166c2"
      },
      "execution_count": null,
      "outputs": [
        {
          "output_type": "stream",
          "name": "stdout",
          "text": [
            "      bin Interval\n",
            "0   1 day 729 days\n",
            "1  2 days   0 days\n",
            "2  3 days   0 days\n"
          ]
        },
        {
          "output_type": "stream",
          "name": "stderr",
          "text": [
            "<ipython-input-22-1cfafc1504c4>:2: FutureWarning: The default of observed=False is deprecated and will be changed to True in a future version of pandas. Pass observed=False to retain current behavior or observed=True to adopt the future default and silence this warning.\n",
            "  bin_sums = sampled_df.groupby('bin')['Interval'].sum().reset_index()\n"
          ]
        }
      ]
    },
    {
      "cell_type": "code",
      "source": [
        "sampled_df.info()"
      ],
      "metadata": {
        "colab": {
          "base_uri": "https://localhost:8080/"
        },
        "id": "EJVJZjKLuu6u",
        "outputId": "f1f4f14e-798f-4a45-ca35-c12447c4ea81"
      },
      "execution_count": null,
      "outputs": [
        {
          "output_type": "stream",
          "name": "stdout",
          "text": [
            "<class 'pandas.core.frame.DataFrame'>\n",
            "Index: 20000 entries, 33553 to 42327\n",
            "Data columns (total 8 columns):\n",
            " #   Column      Non-Null Count  Dtype          \n",
            "---  ------      --------------  -----          \n",
            " 0   Unnamed: 0  20000 non-null  object         \n",
            " 1   Date        20000 non-null  datetime64[ns] \n",
            " 2   User        20000 non-null  object         \n",
            " 3   Tweet       20000 non-null  object         \n",
            " 4   Likes       19999 non-null  float64        \n",
            " 5   Retweets    19999 non-null  float64        \n",
            " 6   Interval    19999 non-null  timedelta64[ns]\n",
            " 7   bin         19999 non-null  category       \n",
            "dtypes: category(1), datetime64[ns](1), float64(2), object(3), timedelta64[ns](1)\n",
            "memory usage: 1.7+ MB\n"
          ]
        }
      ]
    },
    {
      "cell_type": "markdown",
      "source": [
        "<font color='red'>**Remember to add comments with hashtags (#) for the code above.**\n",
        "\n",
        "<font color='red'>**1. What's the purpose running the above code**\n",
        "\n",
        "<font color='red'>**2. Based on the output above, do the data types now already meet your expectations? Please provide an explanation to help guide the readers.**"
      ],
      "metadata": {
        "id": "4uAnOcubcq-1"
      }
    },
    {
      "cell_type": "code",
      "source": [
        "#Count the number of unique users for each day\n",
        "user_counts = sampled_df.groupby('Date')['User'].nunique().reset_index()\n",
        "print(user_counts)"
      ],
      "metadata": {
        "colab": {
          "base_uri": "https://localhost:8080/"
        },
        "id": "BeAgUCdGuuc2",
        "outputId": "e28a5bda-18aa-49bb-af46-87bbf0c3d4f3"
      },
      "execution_count": null,
      "outputs": [
        {
          "output_type": "stream",
          "name": "stdout",
          "text": [
            "                               Date  User\n",
            "0     2022-01-01 00:00:00.000000000     1\n",
            "1     2022-01-01 00:52:29.437471873     1\n",
            "2     2022-01-01 01:44:58.874943747     1\n",
            "3     2022-01-01 02:37:28.312415620     1\n",
            "4     2022-01-01 03:29:57.749887494     1\n",
            "...                             ...   ...\n",
            "19995 2023-12-30 20:30:02.250112504     1\n",
            "19996 2023-12-30 21:22:31.687584384     1\n",
            "19997 2023-12-30 22:15:01.125056256     1\n",
            "19998 2023-12-30 23:07:30.562528128     1\n",
            "19999 2023-12-31 00:00:00.000000000     1\n",
            "\n",
            "[20000 rows x 2 columns]\n"
          ]
        }
      ]
    },
    {
      "cell_type": "code",
      "source": [
        "user_counts.info()"
      ],
      "metadata": {
        "colab": {
          "base_uri": "https://localhost:8080/"
        },
        "id": "9iH0mhzuz5sJ",
        "outputId": "2dfb1df1-e79c-40be-d8f0-1123ea9bfe2c"
      },
      "execution_count": null,
      "outputs": [
        {
          "output_type": "stream",
          "name": "stdout",
          "text": [
            "<class 'pandas.core.frame.DataFrame'>\n",
            "RangeIndex: 20000 entries, 0 to 19999\n",
            "Data columns (total 2 columns):\n",
            " #   Column  Non-Null Count  Dtype         \n",
            "---  ------  --------------  -----         \n",
            " 0   Date    20000 non-null  datetime64[ns]\n",
            " 1   User    20000 non-null  int64         \n",
            "dtypes: datetime64[ns](1), int64(1)\n",
            "memory usage: 312.6 KB\n"
          ]
        }
      ]
    },
    {
      "cell_type": "markdown",
      "source": [
        "<font color='red'>**Remember to add comments with hashtags (#) for the code above.**\n",
        "\n",
        "<font color='red'>**- What's the purpose running the above code**"
      ],
      "metadata": {
        "id": "B_lU2kfzcsQo"
      }
    },
    {
      "cell_type": "code",
      "source": [
        "user_counts.head()"
      ],
      "metadata": {
        "colab": {
          "base_uri": "https://localhost:8080/",
          "height": 206
        },
        "id": "1k_QI5JEz_5_",
        "outputId": "0428e768-06f1-4dec-ffd6-d5b48820e74f"
      },
      "execution_count": null,
      "outputs": [
        {
          "output_type": "execute_result",
          "data": {
            "text/plain": [
              "                           Date  User\n",
              "0 2022-01-01 00:00:00.000000000     1\n",
              "1 2022-01-01 00:52:29.437471873     1\n",
              "2 2022-01-01 01:44:58.874943747     1\n",
              "3 2022-01-01 02:37:28.312415620     1\n",
              "4 2022-01-01 03:29:57.749887494     1"
            ],
            "text/html": [
              "\n",
              "  <div id=\"df-d0cf4e22-de17-45d2-b9c9-c4272a7fdc74\" class=\"colab-df-container\">\n",
              "    <div>\n",
              "<style scoped>\n",
              "    .dataframe tbody tr th:only-of-type {\n",
              "        vertical-align: middle;\n",
              "    }\n",
              "\n",
              "    .dataframe tbody tr th {\n",
              "        vertical-align: top;\n",
              "    }\n",
              "\n",
              "    .dataframe thead th {\n",
              "        text-align: right;\n",
              "    }\n",
              "</style>\n",
              "<table border=\"1\" class=\"dataframe\">\n",
              "  <thead>\n",
              "    <tr style=\"text-align: right;\">\n",
              "      <th></th>\n",
              "      <th>Date</th>\n",
              "      <th>User</th>\n",
              "    </tr>\n",
              "  </thead>\n",
              "  <tbody>\n",
              "    <tr>\n",
              "      <th>0</th>\n",
              "      <td>2022-01-01 00:00:00.000000000</td>\n",
              "      <td>1</td>\n",
              "    </tr>\n",
              "    <tr>\n",
              "      <th>1</th>\n",
              "      <td>2022-01-01 00:52:29.437471873</td>\n",
              "      <td>1</td>\n",
              "    </tr>\n",
              "    <tr>\n",
              "      <th>2</th>\n",
              "      <td>2022-01-01 01:44:58.874943747</td>\n",
              "      <td>1</td>\n",
              "    </tr>\n",
              "    <tr>\n",
              "      <th>3</th>\n",
              "      <td>2022-01-01 02:37:28.312415620</td>\n",
              "      <td>1</td>\n",
              "    </tr>\n",
              "    <tr>\n",
              "      <th>4</th>\n",
              "      <td>2022-01-01 03:29:57.749887494</td>\n",
              "      <td>1</td>\n",
              "    </tr>\n",
              "  </tbody>\n",
              "</table>\n",
              "</div>\n",
              "    <div class=\"colab-df-buttons\">\n",
              "\n",
              "  <div class=\"colab-df-container\">\n",
              "    <button class=\"colab-df-convert\" onclick=\"convertToInteractive('df-d0cf4e22-de17-45d2-b9c9-c4272a7fdc74')\"\n",
              "            title=\"Convert this dataframe to an interactive table.\"\n",
              "            style=\"display:none;\">\n",
              "\n",
              "  <svg xmlns=\"http://www.w3.org/2000/svg\" height=\"24px\" viewBox=\"0 -960 960 960\">\n",
              "    <path d=\"M120-120v-720h720v720H120Zm60-500h600v-160H180v160Zm220 220h160v-160H400v160Zm0 220h160v-160H400v160ZM180-400h160v-160H180v160Zm440 0h160v-160H620v160ZM180-180h160v-160H180v160Zm440 0h160v-160H620v160Z\"/>\n",
              "  </svg>\n",
              "    </button>\n",
              "\n",
              "  <style>\n",
              "    .colab-df-container {\n",
              "      display:flex;\n",
              "      gap: 12px;\n",
              "    }\n",
              "\n",
              "    .colab-df-convert {\n",
              "      background-color: #E8F0FE;\n",
              "      border: none;\n",
              "      border-radius: 50%;\n",
              "      cursor: pointer;\n",
              "      display: none;\n",
              "      fill: #1967D2;\n",
              "      height: 32px;\n",
              "      padding: 0 0 0 0;\n",
              "      width: 32px;\n",
              "    }\n",
              "\n",
              "    .colab-df-convert:hover {\n",
              "      background-color: #E2EBFA;\n",
              "      box-shadow: 0px 1px 2px rgba(60, 64, 67, 0.3), 0px 1px 3px 1px rgba(60, 64, 67, 0.15);\n",
              "      fill: #174EA6;\n",
              "    }\n",
              "\n",
              "    .colab-df-buttons div {\n",
              "      margin-bottom: 4px;\n",
              "    }\n",
              "\n",
              "    [theme=dark] .colab-df-convert {\n",
              "      background-color: #3B4455;\n",
              "      fill: #D2E3FC;\n",
              "    }\n",
              "\n",
              "    [theme=dark] .colab-df-convert:hover {\n",
              "      background-color: #434B5C;\n",
              "      box-shadow: 0px 1px 3px 1px rgba(0, 0, 0, 0.15);\n",
              "      filter: drop-shadow(0px 1px 2px rgba(0, 0, 0, 0.3));\n",
              "      fill: #FFFFFF;\n",
              "    }\n",
              "  </style>\n",
              "\n",
              "    <script>\n",
              "      const buttonEl =\n",
              "        document.querySelector('#df-d0cf4e22-de17-45d2-b9c9-c4272a7fdc74 button.colab-df-convert');\n",
              "      buttonEl.style.display =\n",
              "        google.colab.kernel.accessAllowed ? 'block' : 'none';\n",
              "\n",
              "      async function convertToInteractive(key) {\n",
              "        const element = document.querySelector('#df-d0cf4e22-de17-45d2-b9c9-c4272a7fdc74');\n",
              "        const dataTable =\n",
              "          await google.colab.kernel.invokeFunction('convertToInteractive',\n",
              "                                                    [key], {});\n",
              "        if (!dataTable) return;\n",
              "\n",
              "        const docLinkHtml = 'Like what you see? Visit the ' +\n",
              "          '<a target=\"_blank\" href=https://colab.research.google.com/notebooks/data_table.ipynb>data table notebook</a>'\n",
              "          + ' to learn more about interactive tables.';\n",
              "        element.innerHTML = '';\n",
              "        dataTable['output_type'] = 'display_data';\n",
              "        await google.colab.output.renderOutput(dataTable, element);\n",
              "        const docLink = document.createElement('div');\n",
              "        docLink.innerHTML = docLinkHtml;\n",
              "        element.appendChild(docLink);\n",
              "      }\n",
              "    </script>\n",
              "  </div>\n",
              "\n",
              "\n",
              "<div id=\"df-95be40ce-564c-417e-b0da-702bf7a7cdee\">\n",
              "  <button class=\"colab-df-quickchart\" onclick=\"quickchart('df-95be40ce-564c-417e-b0da-702bf7a7cdee')\"\n",
              "            title=\"Suggest charts\"\n",
              "            style=\"display:none;\">\n",
              "\n",
              "<svg xmlns=\"http://www.w3.org/2000/svg\" height=\"24px\"viewBox=\"0 0 24 24\"\n",
              "     width=\"24px\">\n",
              "    <g>\n",
              "        <path d=\"M19 3H5c-1.1 0-2 .9-2 2v14c0 1.1.9 2 2 2h14c1.1 0 2-.9 2-2V5c0-1.1-.9-2-2-2zM9 17H7v-7h2v7zm4 0h-2V7h2v10zm4 0h-2v-4h2v4z\"/>\n",
              "    </g>\n",
              "</svg>\n",
              "  </button>\n",
              "\n",
              "<style>\n",
              "  .colab-df-quickchart {\n",
              "      --bg-color: #E8F0FE;\n",
              "      --fill-color: #1967D2;\n",
              "      --hover-bg-color: #E2EBFA;\n",
              "      --hover-fill-color: #174EA6;\n",
              "      --disabled-fill-color: #AAA;\n",
              "      --disabled-bg-color: #DDD;\n",
              "  }\n",
              "\n",
              "  [theme=dark] .colab-df-quickchart {\n",
              "      --bg-color: #3B4455;\n",
              "      --fill-color: #D2E3FC;\n",
              "      --hover-bg-color: #434B5C;\n",
              "      --hover-fill-color: #FFFFFF;\n",
              "      --disabled-bg-color: #3B4455;\n",
              "      --disabled-fill-color: #666;\n",
              "  }\n",
              "\n",
              "  .colab-df-quickchart {\n",
              "    background-color: var(--bg-color);\n",
              "    border: none;\n",
              "    border-radius: 50%;\n",
              "    cursor: pointer;\n",
              "    display: none;\n",
              "    fill: var(--fill-color);\n",
              "    height: 32px;\n",
              "    padding: 0;\n",
              "    width: 32px;\n",
              "  }\n",
              "\n",
              "  .colab-df-quickchart:hover {\n",
              "    background-color: var(--hover-bg-color);\n",
              "    box-shadow: 0 1px 2px rgba(60, 64, 67, 0.3), 0 1px 3px 1px rgba(60, 64, 67, 0.15);\n",
              "    fill: var(--button-hover-fill-color);\n",
              "  }\n",
              "\n",
              "  .colab-df-quickchart-complete:disabled,\n",
              "  .colab-df-quickchart-complete:disabled:hover {\n",
              "    background-color: var(--disabled-bg-color);\n",
              "    fill: var(--disabled-fill-color);\n",
              "    box-shadow: none;\n",
              "  }\n",
              "\n",
              "  .colab-df-spinner {\n",
              "    border: 2px solid var(--fill-color);\n",
              "    border-color: transparent;\n",
              "    border-bottom-color: var(--fill-color);\n",
              "    animation:\n",
              "      spin 1s steps(1) infinite;\n",
              "  }\n",
              "\n",
              "  @keyframes spin {\n",
              "    0% {\n",
              "      border-color: transparent;\n",
              "      border-bottom-color: var(--fill-color);\n",
              "      border-left-color: var(--fill-color);\n",
              "    }\n",
              "    20% {\n",
              "      border-color: transparent;\n",
              "      border-left-color: var(--fill-color);\n",
              "      border-top-color: var(--fill-color);\n",
              "    }\n",
              "    30% {\n",
              "      border-color: transparent;\n",
              "      border-left-color: var(--fill-color);\n",
              "      border-top-color: var(--fill-color);\n",
              "      border-right-color: var(--fill-color);\n",
              "    }\n",
              "    40% {\n",
              "      border-color: transparent;\n",
              "      border-right-color: var(--fill-color);\n",
              "      border-top-color: var(--fill-color);\n",
              "    }\n",
              "    60% {\n",
              "      border-color: transparent;\n",
              "      border-right-color: var(--fill-color);\n",
              "    }\n",
              "    80% {\n",
              "      border-color: transparent;\n",
              "      border-right-color: var(--fill-color);\n",
              "      border-bottom-color: var(--fill-color);\n",
              "    }\n",
              "    90% {\n",
              "      border-color: transparent;\n",
              "      border-bottom-color: var(--fill-color);\n",
              "    }\n",
              "  }\n",
              "</style>\n",
              "\n",
              "  <script>\n",
              "    async function quickchart(key) {\n",
              "      const quickchartButtonEl =\n",
              "        document.querySelector('#' + key + ' button');\n",
              "      quickchartButtonEl.disabled = true;  // To prevent multiple clicks.\n",
              "      quickchartButtonEl.classList.add('colab-df-spinner');\n",
              "      try {\n",
              "        const charts = await google.colab.kernel.invokeFunction(\n",
              "            'suggestCharts', [key], {});\n",
              "      } catch (error) {\n",
              "        console.error('Error during call to suggestCharts:', error);\n",
              "      }\n",
              "      quickchartButtonEl.classList.remove('colab-df-spinner');\n",
              "      quickchartButtonEl.classList.add('colab-df-quickchart-complete');\n",
              "    }\n",
              "    (() => {\n",
              "      let quickchartButtonEl =\n",
              "        document.querySelector('#df-95be40ce-564c-417e-b0da-702bf7a7cdee button');\n",
              "      quickchartButtonEl.style.display =\n",
              "        google.colab.kernel.accessAllowed ? 'block' : 'none';\n",
              "    })();\n",
              "  </script>\n",
              "</div>\n",
              "\n",
              "    </div>\n",
              "  </div>\n"
            ],
            "application/vnd.google.colaboratory.intrinsic+json": {
              "type": "dataframe",
              "variable_name": "user_counts",
              "summary": "{\n  \"name\": \"user_counts\",\n  \"rows\": 20000,\n  \"fields\": [\n    {\n      \"column\": \"Date\",\n      \"properties\": {\n        \"dtype\": \"date\",\n        \"min\": \"2022-01-01 00:00:00\",\n        \"max\": \"2023-12-31 00:00:00\",\n        \"num_unique_values\": 20000,\n        \"samples\": [\n          \"2023-01-24 05:05:09.075453772\",\n          \"2022-03-16 09:33:21.880094005\",\n          \"2022-11-12 23:08:44.006200312\"\n        ],\n        \"semantic_type\": \"\",\n        \"description\": \"\"\n      }\n    },\n    {\n      \"column\": \"User\",\n      \"properties\": {\n        \"dtype\": \"number\",\n        \"std\": 0,\n        \"min\": 1,\n        \"max\": 1,\n        \"num_unique_values\": 1,\n        \"samples\": [\n          1\n        ],\n        \"semantic_type\": \"\",\n        \"description\": \"\"\n      }\n    }\n  ]\n}"
            }
          },
          "metadata": {},
          "execution_count": 26
        }
      ]
    },
    {
      "cell_type": "markdown",
      "source": [
        "<font color='red'>**Remember to add comments with hashtags (#) for the code above.**\n",
        "\n",
        "<font color='red'>**- What's the purpose running the above code**"
      ],
      "metadata": {
        "id": "mPr1Jk7qctEu"
      }
    },
    {
      "cell_type": "code",
      "source": [
        "user_counts.tail()"
      ],
      "metadata": {
        "colab": {
          "base_uri": "https://localhost:8080/",
          "height": 206
        },
        "id": "7LrEBlZd0Dx3",
        "outputId": "e851faa9-2307-4b6b-e5c7-185cfcfef166"
      },
      "execution_count": null,
      "outputs": [
        {
          "output_type": "execute_result",
          "data": {
            "text/plain": [
              "                               Date  User\n",
              "19995 2023-12-30 20:30:02.250112504     1\n",
              "19996 2023-12-30 21:22:31.687584384     1\n",
              "19997 2023-12-30 22:15:01.125056256     1\n",
              "19998 2023-12-30 23:07:30.562528128     1\n",
              "19999 2023-12-31 00:00:00.000000000     1"
            ],
            "text/html": [
              "\n",
              "  <div id=\"df-0c72d011-2a85-47c2-b2b5-77ee33d91697\" class=\"colab-df-container\">\n",
              "    <div>\n",
              "<style scoped>\n",
              "    .dataframe tbody tr th:only-of-type {\n",
              "        vertical-align: middle;\n",
              "    }\n",
              "\n",
              "    .dataframe tbody tr th {\n",
              "        vertical-align: top;\n",
              "    }\n",
              "\n",
              "    .dataframe thead th {\n",
              "        text-align: right;\n",
              "    }\n",
              "</style>\n",
              "<table border=\"1\" class=\"dataframe\">\n",
              "  <thead>\n",
              "    <tr style=\"text-align: right;\">\n",
              "      <th></th>\n",
              "      <th>Date</th>\n",
              "      <th>User</th>\n",
              "    </tr>\n",
              "  </thead>\n",
              "  <tbody>\n",
              "    <tr>\n",
              "      <th>19995</th>\n",
              "      <td>2023-12-30 20:30:02.250112504</td>\n",
              "      <td>1</td>\n",
              "    </tr>\n",
              "    <tr>\n",
              "      <th>19996</th>\n",
              "      <td>2023-12-30 21:22:31.687584384</td>\n",
              "      <td>1</td>\n",
              "    </tr>\n",
              "    <tr>\n",
              "      <th>19997</th>\n",
              "      <td>2023-12-30 22:15:01.125056256</td>\n",
              "      <td>1</td>\n",
              "    </tr>\n",
              "    <tr>\n",
              "      <th>19998</th>\n",
              "      <td>2023-12-30 23:07:30.562528128</td>\n",
              "      <td>1</td>\n",
              "    </tr>\n",
              "    <tr>\n",
              "      <th>19999</th>\n",
              "      <td>2023-12-31 00:00:00.000000000</td>\n",
              "      <td>1</td>\n",
              "    </tr>\n",
              "  </tbody>\n",
              "</table>\n",
              "</div>\n",
              "    <div class=\"colab-df-buttons\">\n",
              "\n",
              "  <div class=\"colab-df-container\">\n",
              "    <button class=\"colab-df-convert\" onclick=\"convertToInteractive('df-0c72d011-2a85-47c2-b2b5-77ee33d91697')\"\n",
              "            title=\"Convert this dataframe to an interactive table.\"\n",
              "            style=\"display:none;\">\n",
              "\n",
              "  <svg xmlns=\"http://www.w3.org/2000/svg\" height=\"24px\" viewBox=\"0 -960 960 960\">\n",
              "    <path d=\"M120-120v-720h720v720H120Zm60-500h600v-160H180v160Zm220 220h160v-160H400v160Zm0 220h160v-160H400v160ZM180-400h160v-160H180v160Zm440 0h160v-160H620v160ZM180-180h160v-160H180v160Zm440 0h160v-160H620v160Z\"/>\n",
              "  </svg>\n",
              "    </button>\n",
              "\n",
              "  <style>\n",
              "    .colab-df-container {\n",
              "      display:flex;\n",
              "      gap: 12px;\n",
              "    }\n",
              "\n",
              "    .colab-df-convert {\n",
              "      background-color: #E8F0FE;\n",
              "      border: none;\n",
              "      border-radius: 50%;\n",
              "      cursor: pointer;\n",
              "      display: none;\n",
              "      fill: #1967D2;\n",
              "      height: 32px;\n",
              "      padding: 0 0 0 0;\n",
              "      width: 32px;\n",
              "    }\n",
              "\n",
              "    .colab-df-convert:hover {\n",
              "      background-color: #E2EBFA;\n",
              "      box-shadow: 0px 1px 2px rgba(60, 64, 67, 0.3), 0px 1px 3px 1px rgba(60, 64, 67, 0.15);\n",
              "      fill: #174EA6;\n",
              "    }\n",
              "\n",
              "    .colab-df-buttons div {\n",
              "      margin-bottom: 4px;\n",
              "    }\n",
              "\n",
              "    [theme=dark] .colab-df-convert {\n",
              "      background-color: #3B4455;\n",
              "      fill: #D2E3FC;\n",
              "    }\n",
              "\n",
              "    [theme=dark] .colab-df-convert:hover {\n",
              "      background-color: #434B5C;\n",
              "      box-shadow: 0px 1px 3px 1px rgba(0, 0, 0, 0.15);\n",
              "      filter: drop-shadow(0px 1px 2px rgba(0, 0, 0, 0.3));\n",
              "      fill: #FFFFFF;\n",
              "    }\n",
              "  </style>\n",
              "\n",
              "    <script>\n",
              "      const buttonEl =\n",
              "        document.querySelector('#df-0c72d011-2a85-47c2-b2b5-77ee33d91697 button.colab-df-convert');\n",
              "      buttonEl.style.display =\n",
              "        google.colab.kernel.accessAllowed ? 'block' : 'none';\n",
              "\n",
              "      async function convertToInteractive(key) {\n",
              "        const element = document.querySelector('#df-0c72d011-2a85-47c2-b2b5-77ee33d91697');\n",
              "        const dataTable =\n",
              "          await google.colab.kernel.invokeFunction('convertToInteractive',\n",
              "                                                    [key], {});\n",
              "        if (!dataTable) return;\n",
              "\n",
              "        const docLinkHtml = 'Like what you see? Visit the ' +\n",
              "          '<a target=\"_blank\" href=https://colab.research.google.com/notebooks/data_table.ipynb>data table notebook</a>'\n",
              "          + ' to learn more about interactive tables.';\n",
              "        element.innerHTML = '';\n",
              "        dataTable['output_type'] = 'display_data';\n",
              "        await google.colab.output.renderOutput(dataTable, element);\n",
              "        const docLink = document.createElement('div');\n",
              "        docLink.innerHTML = docLinkHtml;\n",
              "        element.appendChild(docLink);\n",
              "      }\n",
              "    </script>\n",
              "  </div>\n",
              "\n",
              "\n",
              "<div id=\"df-e8180161-cec0-409d-b0ec-5469c17d1bd8\">\n",
              "  <button class=\"colab-df-quickchart\" onclick=\"quickchart('df-e8180161-cec0-409d-b0ec-5469c17d1bd8')\"\n",
              "            title=\"Suggest charts\"\n",
              "            style=\"display:none;\">\n",
              "\n",
              "<svg xmlns=\"http://www.w3.org/2000/svg\" height=\"24px\"viewBox=\"0 0 24 24\"\n",
              "     width=\"24px\">\n",
              "    <g>\n",
              "        <path d=\"M19 3H5c-1.1 0-2 .9-2 2v14c0 1.1.9 2 2 2h14c1.1 0 2-.9 2-2V5c0-1.1-.9-2-2-2zM9 17H7v-7h2v7zm4 0h-2V7h2v10zm4 0h-2v-4h2v4z\"/>\n",
              "    </g>\n",
              "</svg>\n",
              "  </button>\n",
              "\n",
              "<style>\n",
              "  .colab-df-quickchart {\n",
              "      --bg-color: #E8F0FE;\n",
              "      --fill-color: #1967D2;\n",
              "      --hover-bg-color: #E2EBFA;\n",
              "      --hover-fill-color: #174EA6;\n",
              "      --disabled-fill-color: #AAA;\n",
              "      --disabled-bg-color: #DDD;\n",
              "  }\n",
              "\n",
              "  [theme=dark] .colab-df-quickchart {\n",
              "      --bg-color: #3B4455;\n",
              "      --fill-color: #D2E3FC;\n",
              "      --hover-bg-color: #434B5C;\n",
              "      --hover-fill-color: #FFFFFF;\n",
              "      --disabled-bg-color: #3B4455;\n",
              "      --disabled-fill-color: #666;\n",
              "  }\n",
              "\n",
              "  .colab-df-quickchart {\n",
              "    background-color: var(--bg-color);\n",
              "    border: none;\n",
              "    border-radius: 50%;\n",
              "    cursor: pointer;\n",
              "    display: none;\n",
              "    fill: var(--fill-color);\n",
              "    height: 32px;\n",
              "    padding: 0;\n",
              "    width: 32px;\n",
              "  }\n",
              "\n",
              "  .colab-df-quickchart:hover {\n",
              "    background-color: var(--hover-bg-color);\n",
              "    box-shadow: 0 1px 2px rgba(60, 64, 67, 0.3), 0 1px 3px 1px rgba(60, 64, 67, 0.15);\n",
              "    fill: var(--button-hover-fill-color);\n",
              "  }\n",
              "\n",
              "  .colab-df-quickchart-complete:disabled,\n",
              "  .colab-df-quickchart-complete:disabled:hover {\n",
              "    background-color: var(--disabled-bg-color);\n",
              "    fill: var(--disabled-fill-color);\n",
              "    box-shadow: none;\n",
              "  }\n",
              "\n",
              "  .colab-df-spinner {\n",
              "    border: 2px solid var(--fill-color);\n",
              "    border-color: transparent;\n",
              "    border-bottom-color: var(--fill-color);\n",
              "    animation:\n",
              "      spin 1s steps(1) infinite;\n",
              "  }\n",
              "\n",
              "  @keyframes spin {\n",
              "    0% {\n",
              "      border-color: transparent;\n",
              "      border-bottom-color: var(--fill-color);\n",
              "      border-left-color: var(--fill-color);\n",
              "    }\n",
              "    20% {\n",
              "      border-color: transparent;\n",
              "      border-left-color: var(--fill-color);\n",
              "      border-top-color: var(--fill-color);\n",
              "    }\n",
              "    30% {\n",
              "      border-color: transparent;\n",
              "      border-left-color: var(--fill-color);\n",
              "      border-top-color: var(--fill-color);\n",
              "      border-right-color: var(--fill-color);\n",
              "    }\n",
              "    40% {\n",
              "      border-color: transparent;\n",
              "      border-right-color: var(--fill-color);\n",
              "      border-top-color: var(--fill-color);\n",
              "    }\n",
              "    60% {\n",
              "      border-color: transparent;\n",
              "      border-right-color: var(--fill-color);\n",
              "    }\n",
              "    80% {\n",
              "      border-color: transparent;\n",
              "      border-right-color: var(--fill-color);\n",
              "      border-bottom-color: var(--fill-color);\n",
              "    }\n",
              "    90% {\n",
              "      border-color: transparent;\n",
              "      border-bottom-color: var(--fill-color);\n",
              "    }\n",
              "  }\n",
              "</style>\n",
              "\n",
              "  <script>\n",
              "    async function quickchart(key) {\n",
              "      const quickchartButtonEl =\n",
              "        document.querySelector('#' + key + ' button');\n",
              "      quickchartButtonEl.disabled = true;  // To prevent multiple clicks.\n",
              "      quickchartButtonEl.classList.add('colab-df-spinner');\n",
              "      try {\n",
              "        const charts = await google.colab.kernel.invokeFunction(\n",
              "            'suggestCharts', [key], {});\n",
              "      } catch (error) {\n",
              "        console.error('Error during call to suggestCharts:', error);\n",
              "      }\n",
              "      quickchartButtonEl.classList.remove('colab-df-spinner');\n",
              "      quickchartButtonEl.classList.add('colab-df-quickchart-complete');\n",
              "    }\n",
              "    (() => {\n",
              "      let quickchartButtonEl =\n",
              "        document.querySelector('#df-e8180161-cec0-409d-b0ec-5469c17d1bd8 button');\n",
              "      quickchartButtonEl.style.display =\n",
              "        google.colab.kernel.accessAllowed ? 'block' : 'none';\n",
              "    })();\n",
              "  </script>\n",
              "</div>\n",
              "\n",
              "    </div>\n",
              "  </div>\n"
            ],
            "application/vnd.google.colaboratory.intrinsic+json": {
              "type": "dataframe",
              "summary": "{\n  \"name\": \"user_counts\",\n  \"rows\": 5,\n  \"fields\": [\n    {\n      \"column\": \"Date\",\n      \"properties\": {\n        \"dtype\": \"date\",\n        \"min\": \"2023-12-30 20:30:02.250112504\",\n        \"max\": \"2023-12-31 00:00:00\",\n        \"num_unique_values\": 5,\n        \"samples\": [\n          \"2023-12-30 21:22:31.687584384\",\n          \"2023-12-31 00:00:00\",\n          \"2023-12-30 22:15:01.125056256\"\n        ],\n        \"semantic_type\": \"\",\n        \"description\": \"\"\n      }\n    },\n    {\n      \"column\": \"User\",\n      \"properties\": {\n        \"dtype\": \"number\",\n        \"std\": 0,\n        \"min\": 1,\n        \"max\": 1,\n        \"num_unique_values\": 1,\n        \"samples\": [\n          1\n        ],\n        \"semantic_type\": \"\",\n        \"description\": \"\"\n      }\n    }\n  ]\n}"
            }
          },
          "metadata": {},
          "execution_count": 27
        }
      ]
    },
    {
      "cell_type": "markdown",
      "source": [
        "<font color='red'>**Remember to add comments with hashtags (#) for the code above.**\n",
        "\n",
        "<font color='red'>**- What's the purpose running the above code**"
      ],
      "metadata": {
        "id": "yGbwwlksct6W"
      }
    },
    {
      "cell_type": "markdown",
      "source": [
        "#Step 4: Pre-processed the sampled data"
      ],
      "metadata": {
        "id": "cCWUpEm62orm"
      }
    },
    {
      "cell_type": "markdown",
      "source": [
        "###Check for the'NaN' values."
      ],
      "metadata": {
        "id": "vpbj9p4ndCW0"
      }
    },
    {
      "cell_type": "code",
      "source": [
        "#check for NaN values\n",
        "nan_counts = sampled_df.isna().sum()\n",
        "print(nan_counts)"
      ],
      "metadata": {
        "colab": {
          "base_uri": "https://localhost:8080/"
        },
        "id": "Q8HbcuCK0G6e",
        "outputId": "87855dd3-6b1a-46e1-bded-e2ad988d4234"
      },
      "execution_count": null,
      "outputs": [
        {
          "output_type": "stream",
          "name": "stdout",
          "text": [
            "Unnamed: 0    0\n",
            "Date          0\n",
            "User          0\n",
            "Tweet         0\n",
            "Likes         1\n",
            "Retweets      1\n",
            "Interval      1\n",
            "bin           1\n",
            "dtype: int64\n"
          ]
        }
      ]
    },
    {
      "cell_type": "markdown",
      "source": [
        "###Make a 'function' to reprocess the text."
      ],
      "metadata": {
        "id": "woM0nRO_dKUg"
      }
    },
    {
      "cell_type": "code",
      "source": [
        "#function to reprocess text\n",
        "def preprocess_text(text):\n",
        "  #convert emojis to text\n",
        "  text = emoji.demojize(text)\n",
        "  #remove special characters\n",
        "  text = re.sub(r'[^\\w\\s]', '', text)\n",
        "  #Tokenize text\n",
        "  tokens = word_tokenize(text)\n",
        "  #Remove stopwords\n",
        "  token = [word for word in tokens if word.lower() not in stopwords.words('english')]\n",
        "  return tokens"
      ],
      "metadata": {
        "id": "AXXbsg4x3K9Y"
      },
      "execution_count": null,
      "outputs": []
    },
    {
      "cell_type": "markdown",
      "source": [
        "###Apply preprocessing function to \"Tweet' Column"
      ],
      "metadata": {
        "id": "ThU1bpxOdW14"
      }
    },
    {
      "cell_type": "code",
      "source": [
        "##Apply preprocessing to the 'Tweet' column\n",
        "sampled_df['tokens'] = sampled_df['Tweet'].apply(preprocess_text)"
      ],
      "metadata": {
        "id": "c3hF5vyW3WmY"
      },
      "execution_count": null,
      "outputs": []
    },
    {
      "cell_type": "markdown",
      "source": [
        "#Step 5: Perform Sentiment Analysis"
      ],
      "metadata": {
        "id": "Sh7ttwO-3yjL"
      }
    },
    {
      "cell_type": "markdown",
      "source": [
        "###Check the 'Tokes' words"
      ],
      "metadata": {
        "id": "Zo0qu0ireAwb"
      }
    },
    {
      "cell_type": "code",
      "source": [
        "print(sampled_df['tokens'])"
      ],
      "metadata": {
        "colab": {
          "base_uri": "https://localhost:8080/"
        },
        "id": "cOe8WDzn3thZ",
        "outputId": "b7638b6b-1cff-4005-a1aa-27104c0b1e87"
      },
      "execution_count": null,
      "outputs": [
        {
          "output_type": "stream",
          "name": "stdout",
          "text": [
            "33553    [desimojito, Yeah, and, since, 2014, Modi, has...\n",
            "9427     [Felix, Pal, is, a, qualitative, PoliticalScie...\n",
            "199      [ShefVaidya, RahulGandhi, Never, seen, any, ot...\n",
            "12447    [amitmalviya, Your, leadership, is, lying, eve...\n",
            "39489    [Politics_2022_, mayank_sxn, Thats, the, same,...\n",
            "                               ...                        \n",
            "14324    [FemboyBebop, ViceApologist, there, is, no, in...\n",
            "43454    [kanhaiyakumar, The, one, who, has, no, common...\n",
            "29499    [PoliticsToday, politics, elections, Past, pre...\n",
            "42682    [MumbaichaDon, U, and, anshul, saxena, are, so...\n",
            "42327    [chandnii__, Meaning, of, Secularism, separati...\n",
            "Name: tokens, Length: 20000, dtype: object\n"
          ]
        }
      ]
    },
    {
      "cell_type": "markdown",
      "source": [
        "<font color='red'>**Remember to add comments with hashtags (#) for the code above.**\n",
        "\n",
        "<font color='red'>**- What's the purpose running the above code**"
      ],
      "metadata": {
        "id": "DdPRL1ndcwMs"
      }
    },
    {
      "cell_type": "markdown",
      "source": [
        "###Using 'TextBlob' module to perform Sentiment Analysis"
      ],
      "metadata": {
        "id": "Lgb8_OlWeIdN"
      }
    },
    {
      "cell_type": "code",
      "source": [
        "#use TextBlob to perform sentiment analysis on the preprocessed twets\n",
        "from textblob import TextBlob\n",
        "\n",
        "def get_sentiment(tokens):\n",
        "  sentiment = TextBlob(' '.join(tokens)).sentiment.polarity\n",
        "  if sentiment > 0:\n",
        "    return 'Positive'\n",
        "  elif sentiment < 0:\n",
        "    return 'Negative'\n",
        "  else:\n",
        "    return 'Neutral'\n"
      ],
      "metadata": {
        "id": "pTkPmwjS39ax"
      },
      "execution_count": null,
      "outputs": []
    },
    {
      "cell_type": "markdown",
      "source": [
        "###Apply the 'get_sentiment' function and add as a column in sampled data"
      ],
      "metadata": {
        "id": "IIapYnPdei8U"
      }
    },
    {
      "cell_type": "code",
      "source": [
        "#Apply the get_sentiment function to the 'tokens' column and store the results in a new column 'sentiment'\n",
        "sampled_df['sentiment'] = sampled_df['tokens'].apply(get_sentiment)\n"
      ],
      "metadata": {
        "id": "8iMnExl94HlK"
      },
      "execution_count": null,
      "outputs": []
    },
    {
      "cell_type": "markdown",
      "source": [
        "###Check the 'get_sentiment' column"
      ],
      "metadata": {
        "id": "dQM3bTfCeyv9"
      }
    },
    {
      "cell_type": "code",
      "source": [
        "#check column 'sentiment' added to dataframe\n",
        "sampled_df.head()"
      ],
      "metadata": {
        "colab": {
          "base_uri": "https://localhost:8080/",
          "height": 486
        },
        "id": "qB_xz9hO4VfL",
        "outputId": "dd0d72ec-3b7e-48d0-e716-2758f7c0b9b0"
      },
      "execution_count": null,
      "outputs": [
        {
          "output_type": "execute_result",
          "data": {
            "text/plain": [
              "      Unnamed: 0                          Date            User  \\\n",
              "33553      33552 2022-01-01 00:00:00.000000000        fekubawa   \n",
              "9427        9427 2022-01-01 00:52:29.437471873       IRASP_UWA   \n",
              "199          199 2022-01-01 01:44:58.874943747    WhybotherMeh   \n",
              "12447      12447 2022-01-01 02:37:28.312415620   albert_colaco   \n",
              "39489      39488 2022-01-01 03:29:57.749887494  adwitiya_singh   \n",
              "\n",
              "                                                   Tweet  Likes  Retweets  \\\n",
              "33553  @desimojito Yeah and since 2014 Modi has pulle...    1.0       0.0   \n",
              "9427   Felix Pal is a #qualitative #PoliticalScientis...    1.0       1.0   \n",
              "199    @ShefVaidya @RahulGandhi Never seen any other ...    0.0       0.0   \n",
              "12447  @amitmalviya Your leadership is lying every da...    0.0       0.0   \n",
              "39489  @Politics_2022_ @mayank_sxn That's the same th...    0.0       0.0   \n",
              "\n",
              "                       Interval    bin  \\\n",
              "33553                       NaT    NaN   \n",
              "9427  0 days 00:52:29.437471873  1 day   \n",
              "199   0 days 00:52:29.437471874  1 day   \n",
              "12447 0 days 00:52:29.437471873  1 day   \n",
              "39489 0 days 00:52:29.437471874  1 day   \n",
              "\n",
              "                                                  tokens sentiment  \n",
              "33553  [desimojito, Yeah, and, since, 2014, Modi, has...  Negative  \n",
              "9427   [Felix, Pal, is, a, qualitative, PoliticalScie...  Positive  \n",
              "199    [ShefVaidya, RahulGandhi, Never, seen, any, ot...  Negative  \n",
              "12447  [amitmalviya, Your, leadership, is, lying, eve...  Positive  \n",
              "39489  [Politics_2022_, mayank_sxn, Thats, the, same,...   Neutral  "
            ],
            "text/html": [
              "\n",
              "  <div id=\"df-12486b20-c647-4bb4-9425-37fdc0d3d24c\" class=\"colab-df-container\">\n",
              "    <div>\n",
              "<style scoped>\n",
              "    .dataframe tbody tr th:only-of-type {\n",
              "        vertical-align: middle;\n",
              "    }\n",
              "\n",
              "    .dataframe tbody tr th {\n",
              "        vertical-align: top;\n",
              "    }\n",
              "\n",
              "    .dataframe thead th {\n",
              "        text-align: right;\n",
              "    }\n",
              "</style>\n",
              "<table border=\"1\" class=\"dataframe\">\n",
              "  <thead>\n",
              "    <tr style=\"text-align: right;\">\n",
              "      <th></th>\n",
              "      <th>Unnamed: 0</th>\n",
              "      <th>Date</th>\n",
              "      <th>User</th>\n",
              "      <th>Tweet</th>\n",
              "      <th>Likes</th>\n",
              "      <th>Retweets</th>\n",
              "      <th>Interval</th>\n",
              "      <th>bin</th>\n",
              "      <th>tokens</th>\n",
              "      <th>sentiment</th>\n",
              "    </tr>\n",
              "  </thead>\n",
              "  <tbody>\n",
              "    <tr>\n",
              "      <th>33553</th>\n",
              "      <td>33552</td>\n",
              "      <td>2022-01-01 00:00:00.000000000</td>\n",
              "      <td>fekubawa</td>\n",
              "      <td>@desimojito Yeah and since 2014 Modi has pulle...</td>\n",
              "      <td>1.0</td>\n",
              "      <td>0.0</td>\n",
              "      <td>NaT</td>\n",
              "      <td>NaN</td>\n",
              "      <td>[desimojito, Yeah, and, since, 2014, Modi, has...</td>\n",
              "      <td>Negative</td>\n",
              "    </tr>\n",
              "    <tr>\n",
              "      <th>9427</th>\n",
              "      <td>9427</td>\n",
              "      <td>2022-01-01 00:52:29.437471873</td>\n",
              "      <td>IRASP_UWA</td>\n",
              "      <td>Felix Pal is a #qualitative #PoliticalScientis...</td>\n",
              "      <td>1.0</td>\n",
              "      <td>1.0</td>\n",
              "      <td>0 days 00:52:29.437471873</td>\n",
              "      <td>1 day</td>\n",
              "      <td>[Felix, Pal, is, a, qualitative, PoliticalScie...</td>\n",
              "      <td>Positive</td>\n",
              "    </tr>\n",
              "    <tr>\n",
              "      <th>199</th>\n",
              "      <td>199</td>\n",
              "      <td>2022-01-01 01:44:58.874943747</td>\n",
              "      <td>WhybotherMeh</td>\n",
              "      <td>@ShefVaidya @RahulGandhi Never seen any other ...</td>\n",
              "      <td>0.0</td>\n",
              "      <td>0.0</td>\n",
              "      <td>0 days 00:52:29.437471874</td>\n",
              "      <td>1 day</td>\n",
              "      <td>[ShefVaidya, RahulGandhi, Never, seen, any, ot...</td>\n",
              "      <td>Negative</td>\n",
              "    </tr>\n",
              "    <tr>\n",
              "      <th>12447</th>\n",
              "      <td>12447</td>\n",
              "      <td>2022-01-01 02:37:28.312415620</td>\n",
              "      <td>albert_colaco</td>\n",
              "      <td>@amitmalviya Your leadership is lying every da...</td>\n",
              "      <td>0.0</td>\n",
              "      <td>0.0</td>\n",
              "      <td>0 days 00:52:29.437471873</td>\n",
              "      <td>1 day</td>\n",
              "      <td>[amitmalviya, Your, leadership, is, lying, eve...</td>\n",
              "      <td>Positive</td>\n",
              "    </tr>\n",
              "    <tr>\n",
              "      <th>39489</th>\n",
              "      <td>39488</td>\n",
              "      <td>2022-01-01 03:29:57.749887494</td>\n",
              "      <td>adwitiya_singh</td>\n",
              "      <td>@Politics_2022_ @mayank_sxn That's the same th...</td>\n",
              "      <td>0.0</td>\n",
              "      <td>0.0</td>\n",
              "      <td>0 days 00:52:29.437471874</td>\n",
              "      <td>1 day</td>\n",
              "      <td>[Politics_2022_, mayank_sxn, Thats, the, same,...</td>\n",
              "      <td>Neutral</td>\n",
              "    </tr>\n",
              "  </tbody>\n",
              "</table>\n",
              "</div>\n",
              "    <div class=\"colab-df-buttons\">\n",
              "\n",
              "  <div class=\"colab-df-container\">\n",
              "    <button class=\"colab-df-convert\" onclick=\"convertToInteractive('df-12486b20-c647-4bb4-9425-37fdc0d3d24c')\"\n",
              "            title=\"Convert this dataframe to an interactive table.\"\n",
              "            style=\"display:none;\">\n",
              "\n",
              "  <svg xmlns=\"http://www.w3.org/2000/svg\" height=\"24px\" viewBox=\"0 -960 960 960\">\n",
              "    <path d=\"M120-120v-720h720v720H120Zm60-500h600v-160H180v160Zm220 220h160v-160H400v160Zm0 220h160v-160H400v160ZM180-400h160v-160H180v160Zm440 0h160v-160H620v160ZM180-180h160v-160H180v160Zm440 0h160v-160H620v160Z\"/>\n",
              "  </svg>\n",
              "    </button>\n",
              "\n",
              "  <style>\n",
              "    .colab-df-container {\n",
              "      display:flex;\n",
              "      gap: 12px;\n",
              "    }\n",
              "\n",
              "    .colab-df-convert {\n",
              "      background-color: #E8F0FE;\n",
              "      border: none;\n",
              "      border-radius: 50%;\n",
              "      cursor: pointer;\n",
              "      display: none;\n",
              "      fill: #1967D2;\n",
              "      height: 32px;\n",
              "      padding: 0 0 0 0;\n",
              "      width: 32px;\n",
              "    }\n",
              "\n",
              "    .colab-df-convert:hover {\n",
              "      background-color: #E2EBFA;\n",
              "      box-shadow: 0px 1px 2px rgba(60, 64, 67, 0.3), 0px 1px 3px 1px rgba(60, 64, 67, 0.15);\n",
              "      fill: #174EA6;\n",
              "    }\n",
              "\n",
              "    .colab-df-buttons div {\n",
              "      margin-bottom: 4px;\n",
              "    }\n",
              "\n",
              "    [theme=dark] .colab-df-convert {\n",
              "      background-color: #3B4455;\n",
              "      fill: #D2E3FC;\n",
              "    }\n",
              "\n",
              "    [theme=dark] .colab-df-convert:hover {\n",
              "      background-color: #434B5C;\n",
              "      box-shadow: 0px 1px 3px 1px rgba(0, 0, 0, 0.15);\n",
              "      filter: drop-shadow(0px 1px 2px rgba(0, 0, 0, 0.3));\n",
              "      fill: #FFFFFF;\n",
              "    }\n",
              "  </style>\n",
              "\n",
              "    <script>\n",
              "      const buttonEl =\n",
              "        document.querySelector('#df-12486b20-c647-4bb4-9425-37fdc0d3d24c button.colab-df-convert');\n",
              "      buttonEl.style.display =\n",
              "        google.colab.kernel.accessAllowed ? 'block' : 'none';\n",
              "\n",
              "      async function convertToInteractive(key) {\n",
              "        const element = document.querySelector('#df-12486b20-c647-4bb4-9425-37fdc0d3d24c');\n",
              "        const dataTable =\n",
              "          await google.colab.kernel.invokeFunction('convertToInteractive',\n",
              "                                                    [key], {});\n",
              "        if (!dataTable) return;\n",
              "\n",
              "        const docLinkHtml = 'Like what you see? Visit the ' +\n",
              "          '<a target=\"_blank\" href=https://colab.research.google.com/notebooks/data_table.ipynb>data table notebook</a>'\n",
              "          + ' to learn more about interactive tables.';\n",
              "        element.innerHTML = '';\n",
              "        dataTable['output_type'] = 'display_data';\n",
              "        await google.colab.output.renderOutput(dataTable, element);\n",
              "        const docLink = document.createElement('div');\n",
              "        docLink.innerHTML = docLinkHtml;\n",
              "        element.appendChild(docLink);\n",
              "      }\n",
              "    </script>\n",
              "  </div>\n",
              "\n",
              "\n",
              "<div id=\"df-429f7a16-237b-46fd-8cf1-191646c43dc2\">\n",
              "  <button class=\"colab-df-quickchart\" onclick=\"quickchart('df-429f7a16-237b-46fd-8cf1-191646c43dc2')\"\n",
              "            title=\"Suggest charts\"\n",
              "            style=\"display:none;\">\n",
              "\n",
              "<svg xmlns=\"http://www.w3.org/2000/svg\" height=\"24px\"viewBox=\"0 0 24 24\"\n",
              "     width=\"24px\">\n",
              "    <g>\n",
              "        <path d=\"M19 3H5c-1.1 0-2 .9-2 2v14c0 1.1.9 2 2 2h14c1.1 0 2-.9 2-2V5c0-1.1-.9-2-2-2zM9 17H7v-7h2v7zm4 0h-2V7h2v10zm4 0h-2v-4h2v4z\"/>\n",
              "    </g>\n",
              "</svg>\n",
              "  </button>\n",
              "\n",
              "<style>\n",
              "  .colab-df-quickchart {\n",
              "      --bg-color: #E8F0FE;\n",
              "      --fill-color: #1967D2;\n",
              "      --hover-bg-color: #E2EBFA;\n",
              "      --hover-fill-color: #174EA6;\n",
              "      --disabled-fill-color: #AAA;\n",
              "      --disabled-bg-color: #DDD;\n",
              "  }\n",
              "\n",
              "  [theme=dark] .colab-df-quickchart {\n",
              "      --bg-color: #3B4455;\n",
              "      --fill-color: #D2E3FC;\n",
              "      --hover-bg-color: #434B5C;\n",
              "      --hover-fill-color: #FFFFFF;\n",
              "      --disabled-bg-color: #3B4455;\n",
              "      --disabled-fill-color: #666;\n",
              "  }\n",
              "\n",
              "  .colab-df-quickchart {\n",
              "    background-color: var(--bg-color);\n",
              "    border: none;\n",
              "    border-radius: 50%;\n",
              "    cursor: pointer;\n",
              "    display: none;\n",
              "    fill: var(--fill-color);\n",
              "    height: 32px;\n",
              "    padding: 0;\n",
              "    width: 32px;\n",
              "  }\n",
              "\n",
              "  .colab-df-quickchart:hover {\n",
              "    background-color: var(--hover-bg-color);\n",
              "    box-shadow: 0 1px 2px rgba(60, 64, 67, 0.3), 0 1px 3px 1px rgba(60, 64, 67, 0.15);\n",
              "    fill: var(--button-hover-fill-color);\n",
              "  }\n",
              "\n",
              "  .colab-df-quickchart-complete:disabled,\n",
              "  .colab-df-quickchart-complete:disabled:hover {\n",
              "    background-color: var(--disabled-bg-color);\n",
              "    fill: var(--disabled-fill-color);\n",
              "    box-shadow: none;\n",
              "  }\n",
              "\n",
              "  .colab-df-spinner {\n",
              "    border: 2px solid var(--fill-color);\n",
              "    border-color: transparent;\n",
              "    border-bottom-color: var(--fill-color);\n",
              "    animation:\n",
              "      spin 1s steps(1) infinite;\n",
              "  }\n",
              "\n",
              "  @keyframes spin {\n",
              "    0% {\n",
              "      border-color: transparent;\n",
              "      border-bottom-color: var(--fill-color);\n",
              "      border-left-color: var(--fill-color);\n",
              "    }\n",
              "    20% {\n",
              "      border-color: transparent;\n",
              "      border-left-color: var(--fill-color);\n",
              "      border-top-color: var(--fill-color);\n",
              "    }\n",
              "    30% {\n",
              "      border-color: transparent;\n",
              "      border-left-color: var(--fill-color);\n",
              "      border-top-color: var(--fill-color);\n",
              "      border-right-color: var(--fill-color);\n",
              "    }\n",
              "    40% {\n",
              "      border-color: transparent;\n",
              "      border-right-color: var(--fill-color);\n",
              "      border-top-color: var(--fill-color);\n",
              "    }\n",
              "    60% {\n",
              "      border-color: transparent;\n",
              "      border-right-color: var(--fill-color);\n",
              "    }\n",
              "    80% {\n",
              "      border-color: transparent;\n",
              "      border-right-color: var(--fill-color);\n",
              "      border-bottom-color: var(--fill-color);\n",
              "    }\n",
              "    90% {\n",
              "      border-color: transparent;\n",
              "      border-bottom-color: var(--fill-color);\n",
              "    }\n",
              "  }\n",
              "</style>\n",
              "\n",
              "  <script>\n",
              "    async function quickchart(key) {\n",
              "      const quickchartButtonEl =\n",
              "        document.querySelector('#' + key + ' button');\n",
              "      quickchartButtonEl.disabled = true;  // To prevent multiple clicks.\n",
              "      quickchartButtonEl.classList.add('colab-df-spinner');\n",
              "      try {\n",
              "        const charts = await google.colab.kernel.invokeFunction(\n",
              "            'suggestCharts', [key], {});\n",
              "      } catch (error) {\n",
              "        console.error('Error during call to suggestCharts:', error);\n",
              "      }\n",
              "      quickchartButtonEl.classList.remove('colab-df-spinner');\n",
              "      quickchartButtonEl.classList.add('colab-df-quickchart-complete');\n",
              "    }\n",
              "    (() => {\n",
              "      let quickchartButtonEl =\n",
              "        document.querySelector('#df-429f7a16-237b-46fd-8cf1-191646c43dc2 button');\n",
              "      quickchartButtonEl.style.display =\n",
              "        google.colab.kernel.accessAllowed ? 'block' : 'none';\n",
              "    })();\n",
              "  </script>\n",
              "</div>\n",
              "\n",
              "    </div>\n",
              "  </div>\n"
            ],
            "application/vnd.google.colaboratory.intrinsic+json": {
              "type": "dataframe",
              "variable_name": "sampled_df",
              "summary": "{\n  \"name\": \"sampled_df\",\n  \"rows\": 20000,\n  \"fields\": [\n    {\n      \"column\": \"Unnamed: 0\",\n      \"properties\": {\n        \"dtype\": \"string\",\n        \"num_unique_values\": 20000,\n        \"samples\": [\n          \"26890\",\n          \"25023\",\n          \"11666\"\n        ],\n        \"semantic_type\": \"\",\n        \"description\": \"\"\n      }\n    },\n    {\n      \"column\": \"Date\",\n      \"properties\": {\n        \"dtype\": \"date\",\n        \"min\": \"2022-01-01 00:00:00\",\n        \"max\": \"2023-12-31 00:00:00\",\n        \"num_unique_values\": 20000,\n        \"samples\": [\n          \"2023-01-24 05:05:09.075453772\",\n          \"2022-03-16 09:33:21.880094005\",\n          \"2022-11-12 23:08:44.006200312\"\n        ],\n        \"semantic_type\": \"\",\n        \"description\": \"\"\n      }\n    },\n    {\n      \"column\": \"User\",\n      \"properties\": {\n        \"dtype\": \"string\",\n        \"num_unique_values\": 16166,\n        \"samples\": [\n          \"subhajit_n\",\n          \"EnkayKotiyath\",\n          \"aditya_tweets\"\n        ],\n        \"semantic_type\": \"\",\n        \"description\": \"\"\n      }\n    },\n    {\n      \"column\": \"Tweet\",\n      \"properties\": {\n        \"dtype\": \"string\",\n        \"num_unique_values\": 19896,\n        \"samples\": [\n          \"Naveen's 24 in Odisha and its relevance in Indian Politics.\\n@Siba_TNIE https://t.co/dHlp91MUEA\",\n          \"@INCIndia Unfortunetly your doors are locked in indian politics for ever....and nothing can change that...\",\n          \"British politics is a old posh white guy from the Conservative party named Littersnatch-Crabbington and a young Indian guy from Labour arguing endlessly forever despite the only clear policy difference between them being whether the middle class should play 50% or 51% income tax\"\n        ],\n        \"semantic_type\": \"\",\n        \"description\": \"\"\n      }\n    },\n    {\n      \"column\": \"Likes\",\n      \"properties\": {\n        \"dtype\": \"number\",\n        \"std\": 272.83793225284586,\n        \"min\": 0.0,\n        \"max\": 20716.0,\n        \"num_unique_values\": 360,\n        \"samples\": [\n          916.0,\n          21.0,\n          135.0\n        ],\n        \"semantic_type\": \"\",\n        \"description\": \"\"\n      }\n    },\n    {\n      \"column\": \"Retweets\",\n      \"properties\": {\n        \"dtype\": \"number\",\n        \"std\": 63.153233186490404,\n        \"min\": 0.0,\n        \"max\": 6551.0,\n        \"num_unique_values\": 190,\n        \"samples\": [\n          634.0,\n          166.0,\n          125.0\n        ],\n        \"semantic_type\": \"\",\n        \"description\": \"\"\n      }\n    },\n    {\n      \"column\": \"Interval\",\n      \"properties\": {\n        \"dtype\": \"timedelta64[ns]\",\n        \"num_unique_values\": 5,\n        \"samples\": [\n          \"0 days 00:52:29.437471874\",\n          \"0 days 00:52:29.437471880\",\n          \"0 days 00:52:29.437471872\"\n        ],\n        \"semantic_type\": \"\",\n        \"description\": \"\"\n      }\n    },\n    {\n      \"column\": \"bin\",\n      \"properties\": {\n        \"dtype\": \"category\",\n        \"num_unique_values\": 1,\n        \"samples\": [\n          \"1 day\"\n        ],\n        \"semantic_type\": \"\",\n        \"description\": \"\"\n      }\n    },\n    {\n      \"column\": \"tokens\",\n      \"properties\": {\n        \"dtype\": \"object\",\n        \"semantic_type\": \"\",\n        \"description\": \"\"\n      }\n    },\n    {\n      \"column\": \"sentiment\",\n      \"properties\": {\n        \"dtype\": \"category\",\n        \"num_unique_values\": 3,\n        \"samples\": [\n          \"Negative\"\n        ],\n        \"semantic_type\": \"\",\n        \"description\": \"\"\n      }\n    }\n  ]\n}"
            }
          },
          "metadata": {},
          "execution_count": 34
        }
      ]
    },
    {
      "cell_type": "markdown",
      "source": [
        "#Step 6: Visualize the data"
      ],
      "metadata": {
        "id": "jo-TswrU4hMB"
      }
    },
    {
      "cell_type": "markdown",
      "source": [
        "##i- Scatter Plot of Sentiments vs Likes"
      ],
      "metadata": {
        "id": "wRn79Ec840Jk"
      }
    },
    {
      "cell_type": "code",
      "source": [
        "plt.scatter(sampled_df['Likes'], sampled_df['sentiment'])\n",
        "plt.xlabel('Likes')\n",
        "plt.ylabel('Sentiment')\n",
        "plt.title('Scatter Plot of Sentiments vs Likes')\n",
        "plt.show()"
      ],
      "metadata": {
        "colab": {
          "base_uri": "https://localhost:8080/",
          "height": 472
        },
        "id": "kqPpsfrN4jhZ",
        "outputId": "bbffe285-9981-4ad8-a494-065d90f86d79"
      },
      "execution_count": null,
      "outputs": [
        {
          "output_type": "display_data",
          "data": {
            "text/plain": [
              "<Figure size 640x480 with 1 Axes>"
            ],
            "image/png": "[encoded data removed]"
          },
          "metadata": {}
        }
      ]
    },
    {
      "cell_type": "markdown",
      "source": [
        "<font color='red'>**Remember to add comments with hashtags (#) for the code above.**\n",
        "\n",
        "<font color='red'>**1. What's the purpose running the above code**\n",
        "\n",
        "<font color='red'>**2. Scatter plot is not suitable in this case; a bar plot would be more appropriate.**"
      ],
      "metadata": {
        "id": "GHky4f2jcyr9"
      }
    },
    {
      "cell_type": "markdown",
      "source": [
        "###The graph shown that Positives sentiments got more likes than Negatives and users become Neutral and not taken side for any comments and support any local parties."
      ],
      "metadata": {
        "id": "Z0GGZe_WejDO"
      }
    },
    {
      "cell_type": "markdown",
      "source": [
        "##ii- Scatter plot of Sentiments vs Retweets"
      ],
      "metadata": {
        "id": "OkY3PR5V5daS"
      }
    },
    {
      "cell_type": "code",
      "source": [
        "# Scatter plot of Sentiment vs Retweets\n",
        "plt.figure(figsize=(10, 6))\n",
        "sns.scatterplot(data=sampled_df, x='Retweets', y='sentiment', hue='sentiment', palette='coolwarm')\n",
        "plt.title('Sentiment vs Retweets')\n",
        "plt.xlabel('Retweets')\n",
        "plt.ylabel('Sentiment')\n",
        "plt.show()\n"
      ],
      "metadata": {
        "colab": {
          "base_uri": "https://localhost:8080/",
          "height": 405
        },
        "id": "Rj8A0-jd4ssH",
        "outputId": "83271aa9-dc4b-4aaa-f8f0-93a6b2af91b8"
      },
      "execution_count": null,
      "outputs": [
        {
          "output_type": "display_data",
          "data": {
            "text/plain": [
              "<Figure size 1000x600 with 1 Axes>"
            ],
            "image/png": "[encoded data removed]"
          },
          "metadata": {}
        }
      ]
    },
    {
      "cell_type": "markdown",
      "source": [
        "###1. The Scatter Plot  shown that peoples is more positives to retweet the statements when it is a positives compared to the negative's and the neutral staements.\n",
        "\n",
        "###2. Its also shown that negative and neutral statements achieved significant retweet numbers, could be others factors beyond sentiments can influence retweeting behavior.\n",
        "\n",
        "<font color='red'>**Comments:**\n",
        "\n",
        "<font color='red'>**1. Scatter plot is not suitable in this case; a bar plot would be more appropriate.**"
      ],
      "metadata": {
        "id": "pcQL-NHLfsW_"
      }
    },
    {
      "cell_type": "markdown",
      "source": [
        "##iii- Histogram of Sentiments Scores"
      ],
      "metadata": {
        "id": "47ybpyO2507B"
      }
    },
    {
      "cell_type": "code",
      "source": [
        "# Histogram of Sentiment Scores\n",
        "plt.figure(figsize=(10, 6))\n",
        "sns.histplot(data=sampled_df, x='sentiment', kde=True, bins=30, color='skyblue')\n",
        "plt.title('Distribution of Sentiment Scores')\n",
        "plt.xlabel('Sentiment Score')\n",
        "plt.ylabel('Frequency')\n",
        "plt.show()"
      ],
      "metadata": {
        "colab": {
          "base_uri": "https://localhost:8080/",
          "height": 413
        },
        "id": "W02akYfR5KwO",
        "outputId": "935864b3-a50d-446a-8331-0ee330ac4bfd"
      },
      "execution_count": null,
      "outputs": [
        {
          "output_type": "display_data",
          "data": {
            "text/plain": [
              "<Figure size 1000x600 with 1 Axes>"
            ],
            "image/png": "[encoded data removed]"
          },
          "metadata": {}
        }
      ]
    },
    {
      "cell_type": "markdown",
      "source": [
        "###The Histogram :    \n",
        "*   x-axis: Sentiment Scores(Polarity)\n",
        "*   y-axis : Frequency/Count\n",
        "*   Bars : Represent a range of sentiment scores(a bin)\n",
        "\n",
        "### 1. The overall sentiments is positives, with more tweets  expressing positive sentiment than negative or neutral sentiment.\n",
        "\n",
        "###2. it Also shown that the relationships between sentiment and other factors like retweet and likes.\n",
        "\n",
        "<font color='red'>**Comments:**\n",
        "\n",
        "<font color='red'>**1. What is the purpose of including the density lines in the histogram?**\n",
        "\n"
      ],
      "metadata": {
        "id": "SKr1PmoXpTYV"
      }
    },
    {
      "cell_type": "markdown",
      "source": [
        "##iv- Wordcloud"
      ],
      "metadata": {
        "id": "MjFv9nFD6F_3"
      }
    },
    {
      "cell_type": "code",
      "source": [
        "from wordcloud import WordCloud\n",
        "# Combine all processed tweets into a single string\n",
        "#Instead of using 'processed_tweet', use 'tokens' column which contains the processed tweets\n",
        "all_words = ' '.join([' '.join(tweet) for tweet in sampled_df['tokens']])\n",
        "# Generate the word cloud\n",
        "wordcloud = WordCloud(width=800, height=400, background_color='white').generate(all_words)\n",
        "# Display the word cloud\n",
        "plt.figure(figsize=(10, 6))\n",
        "plt.imshow(wordcloud, interpolation='bilinear')\n",
        "plt.axis('off')\n",
        "plt.title('Word Cloud of Tweets')\n",
        "plt.show()"
      ],
      "metadata": {
        "colab": {
          "base_uri": "https://localhost:8080/",
          "height": 357
        },
        "id": "rlc0Us6u5mJq",
        "outputId": "5c1cb460-c8de-4f29-f99a-060de2e53ad5"
      },
      "execution_count": null,
      "outputs": [
        {
          "output_type": "display_data",
          "data": {
            "text/plain": [
              "<Figure size 1000x600 with 1 Axes>"
            ],
            "image/png": "[encoded data removed]"
          },
          "metadata": {}
        }
      ]
    },
    {
      "cell_type": "markdown",
      "source": [
        "###The Wordcloud suggest the most frequently wors within the collected tweets. The size or sords indicating higher frequency of occurence in text data.\n",
        "\n",
        "###The others things to understand are :\n",
        "###1.   Political Context : specific political landscape from various backgrounds of users and connotations of words within that context.\n",
        "\n",
        "###2.   Frequency and Size : a larger words indicates higher fequency and therefore, the greater importance in the discussoons.\n",
        "\n",
        "###3. Words Associations : there will any clusters or grouping of words , as much as 'pattern' that moght suggest connections between different concepts or themes.\n",
        "\n",
        "### The word cloud highlights prominent terms such as \"Indian,\" \"politics,\" and \"BJP,\" alongside smaller terms like \"religion,\" \"Congress,\" \"Modi,\" \"Hindu,\" and \"Prime Minister.\"\n",
        "\n",
        "###From this, we can infer that the main topics of discussion on Twitter regarding Indian politics - during that particular time- in the upcoming elections revolve around the BJP, the ruling party, and the Congress party.\n",
        "\n",
        "###Additionally, the discussions encompass issues related to religion, change, support, the Prime Minister, business, Hindu and Muslim communities, among others. This indicates that these issues are considered significant in India. Any party that can address and provide solutions for these discussed issues is likely to gain support in the upcoming election.\n",
        "\n",
        "###The <font color='red'>**results of the elections in the nine states align with the sentiment analysis derived from Twitter data weeks and months before the election campaigns. The BJP regained two more states in the election**</font>, reflecting the public's support for the ruling party and their positive sentiment towards Prime Minister Modi.\n",
        "\n",
        "<font color='red'>**Comments:**\n",
        "\n",
        "<font color='red'>**1. Could you provide published reports that corroborate your claims (highlighted red) here?**\n",
        "\n",
        "\n",
        "\n",
        "\n",
        "\n"
      ],
      "metadata": {
        "id": "pmIY1cSYUWgz"
      }
    },
    {
      "cell_type": "markdown",
      "source": [
        "##v- Pairplot"
      ],
      "metadata": {
        "id": "CNcfRFYw7OS9"
      }
    },
    {
      "cell_type": "code",
      "source": [
        "# Pair plot to visualize relationships between variables\n",
        "sns.pairplot(sampled_df[['Likes', 'Retweets', 'sentiment']], hue='sentiment', palette='coolwarm')\n",
        "plt.suptitle('Pair Plot of Likes, Retweets, and Sentiment', y=1.02)\n",
        "plt.show()\n"
      ],
      "metadata": {
        "colab": {
          "base_uri": "https://localhost:8080/",
          "height": 535
        },
        "id": "I5yHmvaz59tH",
        "outputId": "04568b55-b669-40af-b7b9-943366e81159"
      },
      "execution_count": null,
      "outputs": [
        {
          "output_type": "display_data",
          "data": {
            "text/plain": [
              "<Figure size 612.5x500 with 6 Axes>"
            ],
            "image/png": "[encoded data removed]"
          },
          "metadata": {}
        }
      ]
    },
    {
      "cell_type": "markdown",
      "source": [
        "###The Pairplot Graph used to visualize and explore relationship between variables within dataset. We want to examine relationship between 'Likes', 'Retweets' and 'Sentiments' in the collected tweets.\n",
        "\n",
        "###The graph shows that :     \n",
        "###1. The Scatter Plots shows positive correlation between 'Likes' and 'Retweets' suggest that tweets with more likes tend to also have more retweets.\n",
        "\n",
        "###2. There also <font color='red'>**have relationship**</font> between the popularity of a tweet (measured by likes and retweet) and the sentiment it express.\n",
        "\n",
        "<font color='red'>**Comments:**\n",
        "\n",
        "<font color='red'>**1. When you mention 'have a relationship,' could you explain what kind of relationship you are referring to?**\n",
        "\n",
        "<font color='red'>**2. Please provide a more detailed explanation to guide the readers on how to interpret your scatter plot.**\n"
      ],
      "metadata": {
        "id": "GL5Jid3ZSGvW"
      }
    },
    {
      "cell_type": "markdown",
      "source": [
        "##vi- Pie Chart Distribution of Sentiments"
      ],
      "metadata": {
        "id": "XUJDe8Ak87b9"
      }
    },
    {
      "cell_type": "code",
      "source": [
        "sentiment_counts = sampled_df['sentiment'].value_counts()"
      ],
      "metadata": {
        "id": "k7MsaiFf7dOS"
      },
      "execution_count": null,
      "outputs": []
    },
    {
      "cell_type": "markdown",
      "source": [
        "<font color='red'>**Remember to add comments with hashtags (#) for the code above.**\n",
        "\n",
        "<font color='red'>**1. What's the purpose running the above code**"
      ],
      "metadata": {
        "id": "PIhdqxqukksm"
      }
    },
    {
      "cell_type": "code",
      "source": [
        "plt.figure(figsize=(8, 6))  # Set the figure size\n",
        "plt.pie(sentiment_counts, labels=sentiment_counts.index, autopct='%1.1f%%', startangle=90)\n",
        "plt.title('Distribution of Sentiments')\n",
        "plt.show()"
      ],
      "metadata": {
        "colab": {
          "base_uri": "https://localhost:8080/",
          "height": 521
        },
        "id": "u3zj3GsA8z1Y",
        "outputId": "b3c76124-a33c-473a-b5b5-1b31c6e84037"
      },
      "execution_count": null,
      "outputs": [
        {
          "output_type": "display_data",
          "data": {
            "text/plain": [
              "<Figure size 800x600 with 1 Axes>"
            ],
            "image/png": "[encoded data removed]"
          },
          "metadata": {}
        }
      ]
    },
    {
      "cell_type": "markdown",
      "source": [
        "<font color='red'>**Remember to add comments with hashtags (#) for the code above.**\n",
        "\n",
        "<font color='red'>**1. What's the purpose running the above code**"
      ],
      "metadata": {
        "id": "p6sYx6dSkswt"
      }
    },
    {
      "cell_type": "markdown",
      "source": [
        "###The pie chart clearly illustrates the percentages distribution of sentiments from the analyzed data.\n",
        "\n",
        "###This serves as a valuable guide for politicians in India, highlighting the issues discussed on social media before the elections. By preparing solutions for the matters identified in the word cloud graph, politicians can address the concerns of the public effectively.\n",
        "\n",
        "<font color='red'>**Comments:**\n",
        "\n",
        "<font color='red'>**1. Could you provide more insights from the pie chart above?**\n",
        "\n",
        "<font color='red'>**2. What does the larger portion labeled \"Positive\" in the pie chart indicate?**\n",
        "\n",
        "<font color='red'>**3. To strengthen your analysis, consider adding your personal insights. If possible, corroborate your observations with published reports that support your findings.**"
      ],
      "metadata": {
        "id": "lR5iAq8kV5uc"
      }
    },
    {
      "cell_type": "markdown",
      "source": [
        "##vii- Bar Chart"
      ],
      "metadata": {
        "id": "Y0oz94nY9suQ"
      }
    },
    {
      "cell_type": "code",
      "source": [
        "sentiment_counts = sampled_df['sentiment'].value_counts()\n",
        "plt.figure(figsize=(8, 6))\n",
        "sns.countplot(data=sampled_df, x='sentiment', palette='coolwarm')\n",
        "plt.title('Distribution of Sentiments')\n",
        "plt.xlabel('Sentiment')\n",
        "plt.ylabel('Count')\n",
        "plt.show()\n",
        "# # Define colors for each sentiment category\n",
        "# colors = ['skyblue', 'lightcoral', 'lightgreen']\n",
        "# plt.bar(sentiment_counts.index, sentiment_counts.values, color=colors)\n",
        "# plt.title('Distribution of Sentiments')\n",
        "# plt.xlabel('Sentiment')\n",
        "# plt.ylabel('Number of Tweets')\n",
        "# plt.show()"
      ],
      "metadata": {
        "colab": {
          "base_uri": "https://localhost:8080/",
          "height": 606
        },
        "id": "nQymrcDr844o",
        "outputId": "7d78212e-8a99-4234-f49d-94559c1cf89e"
      },
      "execution_count": null,
      "outputs": [
        {
          "output_type": "stream",
          "name": "stderr",
          "text": [
            "<ipython-input-43-3cbc45999a41>:3: FutureWarning: \n",
            "\n",
            "Passing `palette` without assigning `hue` is deprecated and will be removed in v0.14.0. Assign the `x` variable to `hue` and set `legend=False` for the same effect.\n",
            "\n",
            "  sns.countplot(data=sampled_df, x='sentiment', palette='coolwarm')\n"
          ]
        },
        {
          "output_type": "display_data",
          "data": {
            "text/plain": [
              "<Figure size 800x600 with 1 Axes>"
            ],
            "image/png": "[encoded data removed]"
          },
          "metadata": {}
        }
      ]
    },
    {
      "cell_type": "markdown",
      "source": [
        "###The bar chart visualizes and summarizes the count of tweets, categorically dividing them into sentiments: 'Negative,' 'Positive,' and 'Neutral.'\n",
        "\n",
        "###It shows that <font color='red'>**positive sentiment dominates the tweets**</font>, as evidenced by the higher number of 'Retweets' and 'Likes' compared to negative and neutral sentiments.\n",
        "\n",
        "<font color='red'>**Comments:**\n",
        "\n",
        "<font color='red'>**1. The statement \"positive sentiment dominates the tweets\" is quite apparent from your analysis, and readers can easily draw this conclusion.**\n",
        "\n",
        "<font color='red'>**2. However, what is the 'deeper meaning' behind the graph that readers might not easily derive? Provide some unique insights that only someone with your expertise can offer.**"
      ],
      "metadata": {
        "id": "g0BD6xKvaHdK"
      }
    },
    {
      "cell_type": "markdown",
      "source": [
        "#Step 7: Conclussions"
      ],
      "metadata": {
        "id": "_qeaXjMW-9Ey"
      }
    },
    {
      "cell_type": "markdown",
      "source": [
        "1. The dataset comprises 50,000 rows of user comments, likes, and retweets about politics in India from 2022 until November 2023.\n",
        "\n",
        "2. Examining the patterns and distributions displayed in the plot, we can gain insights into how sentiment, likes, and retweets are interconnected within the context of Indian politics tweets.\n",
        "\n",
        "3. The analysis aims to determine if sentiments expressed on social media weeks or months before the campaign period affect election results.\n",
        "\n",
        "4. The analysis also examines whether positive sentiments in the data increase the likelihood of winning the election.\n",
        "\n",
        "5. A sample of 40% of the recorded data was chosen, based on the assumption that in a three-cornered fight, the candidate securing 40% of the votes is most likely to win.\n",
        "\n",
        "6. The analysis suggests that all political parties should recognize social media as a tool to measure voter support before and during the campaign period.\n",
        "\n",
        "7. It is crucial to address issues and negative remarks raised on social media before Election Day.\n",
        "\n",
        "8. The analysis would be more comprehensive with additional data on user ages, locations, and gender.\n",
        "\n",
        "<font color='red'>**Comments:**\n",
        "\n",
        "<font color='red'>**1. I like your conclusions, as they reflect your personal thoughts.**\n",
        "\n",
        "<font color='red'>**2. However, some of the explanations would be more effective if they were presented alongside the figures you’ve plotted, rather than being placed in the conclusion.**\n"
      ],
      "metadata": {
        "id": "8Q3L330Hnjtw"
      }
    },
    {
      "cell_type": "code",
      "source": [],
      "metadata": {
        "id": "6H8HNseE-6BZ"
      },
      "execution_count": null,
      "outputs": []
    },
    {
      "cell_type": "code",
      "source": [],
      "metadata": {
        "id": "jXoZpgIT9qYX"
      },
      "execution_count": null,
      "outputs": []
    }
  ]
}